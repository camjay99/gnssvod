{
 "cells": [
  {
   "cell_type": "code",
   "execution_count": 1,
   "id": "4c68777b-d0ef-47c3-adb4-a3edf5b553bc",
   "metadata": {},
   "outputs": [],
   "source": [
    "#Chunk that sloads necessary packages & sets working environment to where the jupyterlab notebook file is \n",
    "%load_ext autoreload\n",
    "%autoreload 2\n",
    "import gnssvod as gv\n",
    "import numpy as np\n",
    "import pandas as pd\n",
    "import matplotlib.pyplot as plt\n",
    "import matplotlib.dates as mdates\n",
    "import pdb\n",
    "import importlib\n",
    "import zipfile\n",
    "import os\n",
    "import xarray as xr\n",
    "import glob\n",
    "import shutil\n",
    "from gnssvod.hemistats.hemistats import hemibuild\n",
    "#import georinex as gr\n",
    "from matplotlib.collections import PatchCollection\n",
    "import matplotlib.dates as mdates\n",
    "import shutil\n",
    "from matplotlib import rcParams\n",
    "from datetime import datetime, timedelta"
   ]
  },
  {
   "cell_type": "code",
   "execution_count": 2,
   "id": "6e341703-1fb9-4474-92ed-f2420a3c1bab",
   "metadata": {},
   "outputs": [],
   "source": [
    "#pairing and concatenating--- starting by establishing path to .nc files per station\n",
    "##here MACROCOSM 5 & 1 are references\n",
    "# MACROCOSM 3 is located in-\n",
    "#MACROCOSM 2 is located in-\n",
    "#MACROCOSM-7 is located in-\n",
    "pattern={'MACROCOSM-1':'/Volumes/coraldelmar/march_collection/MACROCOSM-1/nc/*.nc',\n",
    "        'MACROCOSM-2':'/Volumes/coraldelmar/march_collection/MACROCOSM-2/nc/*.nc',\n",
    "        'MACROCOSM-3':'/Volumes/coraldelmar/march_collection/MACROCOSM-3/nc/*.nc',\n",
    "        'MACROCOSM-5':'/Volumes/coraldelmar/march_collection/MACROCOSM-5/nc/*.nc',\n",
    "        'MACROCOSM-7':'/Volumes/coraldelmar/march_collection/MACROCOSM-7/nc/*.nc'}"
   ]
  },
  {
   "cell_type": "code",
   "execution_count": 3,
   "id": "c15ee70e-5c89-485b-bcbb-81e285199a68",
   "metadata": {
    "tags": []
   },
   "outputs": [
    {
     "data": {
      "text/plain": [
       "IntervalIndex([[2024-10-01 00:00:00, 2024-10-02 00:00:00),\n",
       "               [2024-10-02 00:00:00, 2024-10-03 00:00:00),\n",
       "               [2024-10-03 00:00:00, 2024-10-04 00:00:00),\n",
       "               [2024-10-04 00:00:00, 2024-10-05 00:00:00),\n",
       "               [2024-10-05 00:00:00, 2024-10-06 00:00:00),\n",
       "               [2024-10-06 00:00:00, 2024-10-07 00:00:00),\n",
       "               [2024-10-07 00:00:00, 2024-10-08 00:00:00),\n",
       "               [2024-10-08 00:00:00, 2024-10-09 00:00:00),\n",
       "               [2024-10-09 00:00:00, 2024-10-10 00:00:00),\n",
       "               [2024-10-10 00:00:00, 2024-10-11 00:00:00),\n",
       "               [2024-10-11 00:00:00, 2024-10-12 00:00:00),\n",
       "               [2024-10-12 00:00:00, 2024-10-13 00:00:00),\n",
       "               [2024-10-13 00:00:00, 2024-10-14 00:00:00),\n",
       "               [2024-10-14 00:00:00, 2024-10-15 00:00:00),\n",
       "               [2024-10-15 00:00:00, 2024-10-16 00:00:00),\n",
       "               [2024-10-16 00:00:00, 2024-10-17 00:00:00),\n",
       "               [2024-10-17 00:00:00, 2024-10-18 00:00:00),\n",
       "               [2024-10-18 00:00:00, 2024-10-19 00:00:00),\n",
       "               [2024-10-19 00:00:00, 2024-10-20 00:00:00),\n",
       "               [2024-10-20 00:00:00, 2024-10-21 00:00:00),\n",
       "               [2024-10-21 00:00:00, 2024-10-22 00:00:00),\n",
       "               [2024-10-22 00:00:00, 2024-10-23 00:00:00),\n",
       "               [2024-10-23 00:00:00, 2024-10-24 00:00:00),\n",
       "               [2024-10-24 00:00:00, 2024-10-25 00:00:00),\n",
       "               [2024-10-25 00:00:00, 2024-10-26 00:00:00),\n",
       "               [2024-10-26 00:00:00, 2024-10-27 00:00:00),\n",
       "               [2024-10-27 00:00:00, 2024-10-28 00:00:00),\n",
       "               [2024-10-28 00:00:00, 2024-10-29 00:00:00),\n",
       "               [2024-10-29 00:00:00, 2024-10-30 00:00:00),\n",
       "               [2024-10-30 00:00:00, 2024-10-31 00:00:00)],\n",
       "              dtype='interval[datetime64[ns], left]')"
      ]
     },
     "execution_count": 3,
     "metadata": {},
     "output_type": "execute_result"
    }
   ],
   "source": [
    "startday = start=pd.to_datetime('01-10-2024',format='%d-%m-%Y')\n",
    "timeintervals=pd.interval_range(start=startday, periods=30, freq='D', closed='left')\n",
    "timeintervals"
   ]
  },
  {
   "cell_type": "markdown",
   "id": "801ab6a7-aa22-48ab-b08e-810256ae9ba3",
   "metadata": {},
   "source": [
    "concatenating with reference station first\n",
    "different pairings:\n",
    "-> 5 & 1 - MACROCOSM-5.1\n",
    "-> 5& 2- MACROCOSM-5.2\n",
    "-> 5& 3- MACROCOSM-5.3\n",
    "->5& 7- MACROCOSM-5.7\n",
    "-> 1& 5- MACROCOSM-1.5\n",
    "-> 1& 2- MACROCOSM-1.2\n",
    "-> 1& 3- MACROCOSM-1.3\n",
    "-> 1& 7- MACROCOSM-1.7"
   ]
  },
  {
   "cell_type": "code",
   "execution_count": 4,
   "id": "9f4d705a-c389-4941-a40b-aa2b06d66c6d",
   "metadata": {
    "tags": []
   },
   "outputs": [
    {
     "name": "stdout",
     "output_type": "stream",
     "text": [
      "Extracting Epochs from files\n",
      "----- Processing MACROCOSM-1.5\n",
      "-- Processing interval [2024-10-01 00:00:00, 2024-10-02 00:00:00)\n",
      "Found 0 file(s) for MACROCOSM-1\n",
      "No data for station MACROCOSM-1.\n",
      "Found 0 file(s) for MACROCOSM-5\n",
      "No data for station MACROCOSM-5.\n",
      "No data at all for that interval, skipping..\n",
      "-- Processing interval [2024-10-02 00:00:00, 2024-10-03 00:00:00)\n",
      "Found 0 file(s) for MACROCOSM-1\n",
      "No data for station MACROCOSM-1.\n",
      "Found 0 file(s) for MACROCOSM-5\n",
      "No data for station MACROCOSM-5.\n",
      "No data at all for that interval, skipping..\n",
      "-- Processing interval [2024-10-03 00:00:00, 2024-10-04 00:00:00)\n",
      "Found 0 file(s) for MACROCOSM-1\n",
      "No data for station MACROCOSM-1.\n",
      "Found 0 file(s) for MACROCOSM-5\n",
      "No data for station MACROCOSM-5.\n",
      "No data at all for that interval, skipping..\n",
      "-- Processing interval [2024-10-04 00:00:00, 2024-10-05 00:00:00)\n",
      "Found 0 file(s) for MACROCOSM-1\n",
      "No data for station MACROCOSM-1.\n",
      "Found 0 file(s) for MACROCOSM-5\n",
      "No data for station MACROCOSM-5.\n",
      "No data at all for that interval, skipping..\n",
      "-- Processing interval [2024-10-05 00:00:00, 2024-10-06 00:00:00)\n",
      "Found 0 file(s) for MACROCOSM-1\n",
      "No data for station MACROCOSM-1.\n",
      "Found 0 file(s) for MACROCOSM-5\n",
      "No data for station MACROCOSM-5.\n",
      "No data at all for that interval, skipping..\n",
      "-- Processing interval [2024-10-06 00:00:00, 2024-10-07 00:00:00)\n",
      "Found 0 file(s) for MACROCOSM-1\n",
      "No data for station MACROCOSM-1.\n",
      "Found 0 file(s) for MACROCOSM-5\n",
      "No data for station MACROCOSM-5.\n",
      "No data at all for that interval, skipping..\n",
      "-- Processing interval [2024-10-07 00:00:00, 2024-10-08 00:00:00)\n",
      "Found 0 file(s) for MACROCOSM-1\n",
      "No data for station MACROCOSM-1.\n",
      "Found 0 file(s) for MACROCOSM-5\n",
      "No data for station MACROCOSM-5.\n",
      "No data at all for that interval, skipping..\n",
      "-- Processing interval [2024-10-08 00:00:00, 2024-10-09 00:00:00)\n",
      "Found 0 file(s) for MACROCOSM-1\n",
      "No data for station MACROCOSM-1.\n",
      "Found 0 file(s) for MACROCOSM-5\n",
      "No data for station MACROCOSM-5.\n",
      "No data at all for that interval, skipping..\n",
      "-- Processing interval [2024-10-09 00:00:00, 2024-10-10 00:00:00)\n",
      "Found 1 file(s) for MACROCOSM-1\n",
      "Reading\n",
      "Found 0 file(s) for MACROCOSM-5\n",
      "No data for station MACROCOSM-5.\n",
      "Concatenating stations\n"
     ]
    },
    {
     "ename": "AssertionError",
     "evalue": "Cannot concat indices that do not have the same number of levels",
     "output_type": "error",
     "traceback": [
      "\u001b[0;31m---------------------------------------------------------------------------\u001b[0m",
      "\u001b[0;31mAssertionError\u001b[0m                            Traceback (most recent call last)",
      "Cell \u001b[0;32mIn[4], line 5\u001b[0m\n\u001b[1;32m      3\u001b[0m outputdir\u001b[38;5;241m=\u001b[39m{\u001b[38;5;124m'\u001b[39m\u001b[38;5;124mMACROCOSM-1.5\u001b[39m\u001b[38;5;124m'\u001b[39m:\u001b[38;5;124m'\u001b[39m\u001b[38;5;124m/Volumes/coraldelmar/march_collection/MACROCOSM-1.5\u001b[39m\u001b[38;5;124m'\u001b[39m}\n\u001b[1;32m      4\u001b[0m keepvars\u001b[38;5;241m=\u001b[39m[\u001b[38;5;124m'\u001b[39m\u001b[38;5;124mS*\u001b[39m\u001b[38;5;124m'\u001b[39m,\u001b[38;5;124m'\u001b[39m\u001b[38;5;124mAzimuth\u001b[39m\u001b[38;5;124m'\u001b[39m,\u001b[38;5;124m'\u001b[39m\u001b[38;5;124mElevation\u001b[39m\u001b[38;5;124m'\u001b[39m]\n\u001b[0;32m----> 5\u001b[0m out\u001b[38;5;241m=\u001b[39mgv\u001b[38;5;241m.\u001b[39mgather_stations(pattern,pairings,timeintervals,outputresult\u001b[38;5;241m=\u001b[39m\u001b[38;5;28;01mTrue\u001b[39;00m)\n",
      "File \u001b[0;32m~/miniforge3/envs/gnss_vod/lib/python3.13/site-packages/gnssvod/io/preprocess.py:379\u001b[0m, in \u001b[0;36mgather_stations\u001b[0;34m(filepattern, pairings, timeintervals, keepvars, outputdir, encoding, outputresult)\u001b[0m\n\u001b[1;32m    377\u001b[0m \u001b[38;5;28;01mif\u001b[39;00m \u001b[38;5;129;01mnot\u001b[39;00m \u001b[38;5;28mall\u001b[39m([x\u001b[38;5;241m.\u001b[39mempty \u001b[38;5;28;01mfor\u001b[39;00m x \u001b[38;5;129;01min\u001b[39;00m iout]):\n\u001b[1;32m    378\u001b[0m     \u001b[38;5;28mprint\u001b[39m(\u001b[38;5;124mf\u001b[39m\u001b[38;5;124m'\u001b[39m\u001b[38;5;124mConcatenating stations\u001b[39m\u001b[38;5;124m'\u001b[39m)\n\u001b[0;32m--> 379\u001b[0m     iout \u001b[38;5;241m=\u001b[39m pd\u001b[38;5;241m.\u001b[39mconcat(iout, keys\u001b[38;5;241m=\u001b[39mstation_names, names\u001b[38;5;241m=\u001b[39m[\u001b[38;5;124m'\u001b[39m\u001b[38;5;124mStation\u001b[39m\u001b[38;5;124m'\u001b[39m])\n\u001b[1;32m    381\u001b[0m     \u001b[38;5;66;03m# only keep required vars and drop potential empty rows\u001b[39;00m\n\u001b[1;32m    382\u001b[0m     \u001b[38;5;28;01mif\u001b[39;00m keepvars \u001b[38;5;129;01mis\u001b[39;00m \u001b[38;5;129;01mnot\u001b[39;00m \u001b[38;5;28;01mNone\u001b[39;00m:\n",
      "File \u001b[0;32m~/miniforge3/envs/gnss_vod/lib/python3.13/site-packages/pandas/core/reshape/concat.py:395\u001b[0m, in \u001b[0;36mconcat\u001b[0;34m(objs, axis, join, ignore_index, keys, levels, names, verify_integrity, sort, copy)\u001b[0m\n\u001b[1;32m    380\u001b[0m     copy \u001b[38;5;241m=\u001b[39m \u001b[38;5;28;01mFalse\u001b[39;00m\n\u001b[1;32m    382\u001b[0m op \u001b[38;5;241m=\u001b[39m _Concatenator(\n\u001b[1;32m    383\u001b[0m     objs,\n\u001b[1;32m    384\u001b[0m     axis\u001b[38;5;241m=\u001b[39maxis,\n\u001b[0;32m   (...)\u001b[0m\n\u001b[1;32m    392\u001b[0m     sort\u001b[38;5;241m=\u001b[39msort,\n\u001b[1;32m    393\u001b[0m )\n\u001b[0;32m--> 395\u001b[0m \u001b[38;5;28;01mreturn\u001b[39;00m op\u001b[38;5;241m.\u001b[39mget_result()\n",
      "File \u001b[0;32m~/miniforge3/envs/gnss_vod/lib/python3.13/site-packages/pandas/core/reshape/concat.py:671\u001b[0m, in \u001b[0;36m_Concatenator.get_result\u001b[0;34m(self)\u001b[0m\n\u001b[1;32m    669\u001b[0m \u001b[38;5;28;01mfor\u001b[39;00m obj \u001b[38;5;129;01min\u001b[39;00m \u001b[38;5;28mself\u001b[39m\u001b[38;5;241m.\u001b[39mobjs:\n\u001b[1;32m    670\u001b[0m     indexers \u001b[38;5;241m=\u001b[39m {}\n\u001b[0;32m--> 671\u001b[0m     \u001b[38;5;28;01mfor\u001b[39;00m ax, new_labels \u001b[38;5;129;01min\u001b[39;00m \u001b[38;5;28menumerate\u001b[39m(\u001b[38;5;28mself\u001b[39m\u001b[38;5;241m.\u001b[39mnew_axes):\n\u001b[1;32m    672\u001b[0m         \u001b[38;5;66;03m# ::-1 to convert BlockManager ax to DataFrame ax\u001b[39;00m\n\u001b[1;32m    673\u001b[0m         \u001b[38;5;28;01mif\u001b[39;00m ax \u001b[38;5;241m==\u001b[39m \u001b[38;5;28mself\u001b[39m\u001b[38;5;241m.\u001b[39mbm_axis:\n\u001b[1;32m    674\u001b[0m             \u001b[38;5;66;03m# Suppress reindexing on concat axis\u001b[39;00m\n\u001b[1;32m    675\u001b[0m             \u001b[38;5;28;01mcontinue\u001b[39;00m\n",
      "File \u001b[0;32mproperties.pyx:36\u001b[0m, in \u001b[0;36mpandas._libs.properties.CachedProperty.__get__\u001b[0;34m()\u001b[0m\n",
      "File \u001b[0;32m~/miniforge3/envs/gnss_vod/lib/python3.13/site-packages/pandas/core/reshape/concat.py:703\u001b[0m, in \u001b[0;36m_Concatenator.new_axes\u001b[0;34m(self)\u001b[0m\n\u001b[1;32m    699\u001b[0m \u001b[38;5;129m@cache_readonly\u001b[39m\n\u001b[1;32m    700\u001b[0m \u001b[38;5;28;01mdef\u001b[39;00m \u001b[38;5;21mnew_axes\u001b[39m(\u001b[38;5;28mself\u001b[39m) \u001b[38;5;241m-\u001b[39m\u001b[38;5;241m>\u001b[39m \u001b[38;5;28mlist\u001b[39m[Index]:\n\u001b[1;32m    701\u001b[0m     ndim \u001b[38;5;241m=\u001b[39m \u001b[38;5;28mself\u001b[39m\u001b[38;5;241m.\u001b[39m_get_result_dim()\n\u001b[1;32m    702\u001b[0m     \u001b[38;5;28;01mreturn\u001b[39;00m [\n\u001b[0;32m--> 703\u001b[0m         \u001b[38;5;28mself\u001b[39m\u001b[38;5;241m.\u001b[39m_get_concat_axis \u001b[38;5;28;01mif\u001b[39;00m i \u001b[38;5;241m==\u001b[39m \u001b[38;5;28mself\u001b[39m\u001b[38;5;241m.\u001b[39mbm_axis \u001b[38;5;28;01melse\u001b[39;00m \u001b[38;5;28mself\u001b[39m\u001b[38;5;241m.\u001b[39m_get_comb_axis(i)\n\u001b[1;32m    704\u001b[0m         \u001b[38;5;28;01mfor\u001b[39;00m i \u001b[38;5;129;01min\u001b[39;00m \u001b[38;5;28mrange\u001b[39m(ndim)\n\u001b[1;32m    705\u001b[0m     ]\n",
      "File \u001b[0;32mproperties.pyx:36\u001b[0m, in \u001b[0;36mpandas._libs.properties.CachedProperty.__get__\u001b[0;34m()\u001b[0m\n",
      "File \u001b[0;32m~/miniforge3/envs/gnss_vod/lib/python3.13/site-packages/pandas/core/reshape/concat.py:762\u001b[0m, in \u001b[0;36m_Concatenator._get_concat_axis\u001b[0;34m(self)\u001b[0m\n\u001b[1;32m    760\u001b[0m     concat_axis \u001b[38;5;241m=\u001b[39m _concat_indexes(indexes)\n\u001b[1;32m    761\u001b[0m \u001b[38;5;28;01melse\u001b[39;00m:\n\u001b[0;32m--> 762\u001b[0m     concat_axis \u001b[38;5;241m=\u001b[39m _make_concat_multiindex(\n\u001b[1;32m    763\u001b[0m         indexes, \u001b[38;5;28mself\u001b[39m\u001b[38;5;241m.\u001b[39mkeys, \u001b[38;5;28mself\u001b[39m\u001b[38;5;241m.\u001b[39mlevels, \u001b[38;5;28mself\u001b[39m\u001b[38;5;241m.\u001b[39mnames\n\u001b[1;32m    764\u001b[0m     )\n\u001b[1;32m    766\u001b[0m \u001b[38;5;28mself\u001b[39m\u001b[38;5;241m.\u001b[39m_maybe_check_integrity(concat_axis)\n\u001b[1;32m    768\u001b[0m \u001b[38;5;28;01mreturn\u001b[39;00m concat_axis\n",
      "File \u001b[0;32m~/miniforge3/envs/gnss_vod/lib/python3.13/site-packages/pandas/core/reshape/concat.py:845\u001b[0m, in \u001b[0;36m_make_concat_multiindex\u001b[0;34m(indexes, keys, levels, names)\u001b[0m\n\u001b[1;32m    842\u001b[0m \u001b[38;5;28;01melse\u001b[39;00m:\n\u001b[1;32m    843\u001b[0m     \u001b[38;5;66;03m# make sure that all of the passed indices have the same nlevels\u001b[39;00m\n\u001b[1;32m    844\u001b[0m     \u001b[38;5;28;01mif\u001b[39;00m \u001b[38;5;129;01mnot\u001b[39;00m \u001b[38;5;28mlen\u001b[39m({idx\u001b[38;5;241m.\u001b[39mnlevels \u001b[38;5;28;01mfor\u001b[39;00m idx \u001b[38;5;129;01min\u001b[39;00m indexes}) \u001b[38;5;241m==\u001b[39m \u001b[38;5;241m1\u001b[39m:\n\u001b[0;32m--> 845\u001b[0m         \u001b[38;5;28;01mraise\u001b[39;00m \u001b[38;5;167;01mAssertionError\u001b[39;00m(\n\u001b[1;32m    846\u001b[0m             \u001b[38;5;124m\"\u001b[39m\u001b[38;5;124mCannot concat indices that do not have the same number of levels\u001b[39m\u001b[38;5;124m\"\u001b[39m\n\u001b[1;32m    847\u001b[0m         )\n\u001b[1;32m    849\u001b[0m     \u001b[38;5;66;03m# also copies\u001b[39;00m\n\u001b[1;32m    850\u001b[0m     names \u001b[38;5;241m=\u001b[39m \u001b[38;5;28mlist\u001b[39m(names) \u001b[38;5;241m+\u001b[39m \u001b[38;5;28mlist\u001b[39m(get_unanimous_names(\u001b[38;5;241m*\u001b[39mindexes))\n",
      "\u001b[0;31mAssertionError\u001b[0m: Cannot concat indices that do not have the same number of levels"
     ]
    }
   ],
   "source": [
    "#MACROCOSM 1.5\n",
    "pairings={'MACROCOSM-1.5':('MACROCOSM-1','MACROCOSM-5')}\n",
    "outputdir={'MACROCOSM-1.5':'/Volumes/coraldelmar/march_collection/MACROCOSM-1.5'}\n",
    "keepvars=['S*','Azimuth','Elevation']\n",
    "out=gv.gather_stations(pattern,pairings,timeintervals,outputresult=True)"
   ]
  },
  {
   "cell_type": "code",
   "execution_count": null,
   "id": "6c67bfba-87dd-4800-a179-f93c1f22125a",
   "metadata": {},
   "outputs": [
    {
     "name": "stdout",
     "output_type": "stream",
     "text": [
      "Extracting Epochs from files\n"
     ]
    }
   ],
   "source": [
    "#MACROCOSM 5.3\n",
    "pairings={'MACROCOSM-5.3':('MACROCOSM-5','MACROCOSM-3')}\n",
    "outputdir={'MACROCOSM-5.3':'/Volumes/coraldelmar/march_collection/MACROCOSM-5.3'}\n",
    "keepvars=['S*','Azimuth','Elevation']\n",
    "out=gv.gather_stations(pattern,pairings,timeintervals,outputresult=True)"
   ]
  },
  {
   "cell_type": "code",
   "execution_count": 21,
   "id": "6ecbb969-78d8-44fd-b378-0c6c8059b060",
   "metadata": {},
   "outputs": [
    {
     "name": "stdout",
     "output_type": "stream",
     "text": [
      "Extracting Epochs from files\n",
      "----- Processing MACROCOSM-5.2\n",
      "-- Processing interval [2025-02-01 00:00:00, 2025-02-02 00:00:00)\n",
      "Found 2 file(s) for MACROCOSM-5\n",
      "Reading\n",
      "Found 2 file(s) for MACROCOSM-2\n",
      "Reading\n",
      "Concatenating stations\n",
      "-- Processing interval [2025-02-02 00:00:00, 2025-02-03 00:00:00)\n",
      "Found 2 file(s) for MACROCOSM-5\n",
      "Reading\n",
      "Found 2 file(s) for MACROCOSM-2\n",
      "Reading\n",
      "Concatenating stations\n",
      "-- Processing interval [2025-02-03 00:00:00, 2025-02-04 00:00:00)\n",
      "Found 2 file(s) for MACROCOSM-5\n",
      "Reading\n",
      "Found 1 file(s) for MACROCOSM-2\n",
      "Reading\n",
      "Concatenating stations\n",
      "-- Processing interval [2025-02-04 00:00:00, 2025-02-05 00:00:00)\n",
      "Found 2 file(s) for MACROCOSM-5\n",
      "Reading\n",
      "Found 0 file(s) for MACROCOSM-2\n",
      "No data for station MACROCOSM-2.\n",
      "Concatenating stations\n"
     ]
    },
    {
     "ename": "AssertionError",
     "evalue": "Cannot concat indices that do not have the same number of levels",
     "output_type": "error",
     "traceback": [
      "\u001b[0;31m---------------------------------------------------------------------------\u001b[0m",
      "\u001b[0;31mAssertionError\u001b[0m                            Traceback (most recent call last)",
      "Cell \u001b[0;32mIn[21], line 5\u001b[0m\n\u001b[1;32m      3\u001b[0m outputdir\u001b[38;5;241m=\u001b[39m{\u001b[38;5;124m'\u001b[39m\u001b[38;5;124mMACROCOSM-5.2\u001b[39m\u001b[38;5;124m'\u001b[39m:\u001b[38;5;124m'\u001b[39m\u001b[38;5;124m/Volumes/coraldelmar/march_collection/MACROCOSM-5.2\u001b[39m\u001b[38;5;124m'\u001b[39m}\n\u001b[1;32m      4\u001b[0m keepvars\u001b[38;5;241m=\u001b[39m[\u001b[38;5;124m'\u001b[39m\u001b[38;5;124mS*\u001b[39m\u001b[38;5;124m'\u001b[39m,\u001b[38;5;124m'\u001b[39m\u001b[38;5;124mAzimuth\u001b[39m\u001b[38;5;124m'\u001b[39m,\u001b[38;5;124m'\u001b[39m\u001b[38;5;124mElevation\u001b[39m\u001b[38;5;124m'\u001b[39m]\n\u001b[0;32m----> 5\u001b[0m out\u001b[38;5;241m=\u001b[39mgv\u001b[38;5;241m.\u001b[39mgather_stations(pattern,pairings,timeintervals,outputresult\u001b[38;5;241m=\u001b[39m\u001b[38;5;28;01mTrue\u001b[39;00m)\n",
      "File \u001b[0;32m~/miniforge3/envs/gnss_vod/lib/python3.13/site-packages/gnssvod/io/preprocess.py:379\u001b[0m, in \u001b[0;36mgather_stations\u001b[0;34m(filepattern, pairings, timeintervals, keepvars, outputdir, encoding, outputresult)\u001b[0m\n\u001b[1;32m    377\u001b[0m \u001b[38;5;28;01mif\u001b[39;00m \u001b[38;5;129;01mnot\u001b[39;00m \u001b[38;5;28mall\u001b[39m([x\u001b[38;5;241m.\u001b[39mempty \u001b[38;5;28;01mfor\u001b[39;00m x \u001b[38;5;129;01min\u001b[39;00m iout]):\n\u001b[1;32m    378\u001b[0m     \u001b[38;5;28mprint\u001b[39m(\u001b[38;5;124mf\u001b[39m\u001b[38;5;124m'\u001b[39m\u001b[38;5;124mConcatenating stations\u001b[39m\u001b[38;5;124m'\u001b[39m)\n\u001b[0;32m--> 379\u001b[0m     iout \u001b[38;5;241m=\u001b[39m pd\u001b[38;5;241m.\u001b[39mconcat(iout, keys\u001b[38;5;241m=\u001b[39mstation_names, names\u001b[38;5;241m=\u001b[39m[\u001b[38;5;124m'\u001b[39m\u001b[38;5;124mStation\u001b[39m\u001b[38;5;124m'\u001b[39m])\n\u001b[1;32m    381\u001b[0m     \u001b[38;5;66;03m# only keep required vars and drop potential empty rows\u001b[39;00m\n\u001b[1;32m    382\u001b[0m     \u001b[38;5;28;01mif\u001b[39;00m keepvars \u001b[38;5;129;01mis\u001b[39;00m \u001b[38;5;129;01mnot\u001b[39;00m \u001b[38;5;28;01mNone\u001b[39;00m:\n",
      "File \u001b[0;32m~/miniforge3/envs/gnss_vod/lib/python3.13/site-packages/pandas/core/reshape/concat.py:395\u001b[0m, in \u001b[0;36mconcat\u001b[0;34m(objs, axis, join, ignore_index, keys, levels, names, verify_integrity, sort, copy)\u001b[0m\n\u001b[1;32m    380\u001b[0m     copy \u001b[38;5;241m=\u001b[39m \u001b[38;5;28;01mFalse\u001b[39;00m\n\u001b[1;32m    382\u001b[0m op \u001b[38;5;241m=\u001b[39m _Concatenator(\n\u001b[1;32m    383\u001b[0m     objs,\n\u001b[1;32m    384\u001b[0m     axis\u001b[38;5;241m=\u001b[39maxis,\n\u001b[0;32m   (...)\u001b[0m\n\u001b[1;32m    392\u001b[0m     sort\u001b[38;5;241m=\u001b[39msort,\n\u001b[1;32m    393\u001b[0m )\n\u001b[0;32m--> 395\u001b[0m \u001b[38;5;28;01mreturn\u001b[39;00m op\u001b[38;5;241m.\u001b[39mget_result()\n",
      "File \u001b[0;32m~/miniforge3/envs/gnss_vod/lib/python3.13/site-packages/pandas/core/reshape/concat.py:671\u001b[0m, in \u001b[0;36m_Concatenator.get_result\u001b[0;34m(self)\u001b[0m\n\u001b[1;32m    669\u001b[0m \u001b[38;5;28;01mfor\u001b[39;00m obj \u001b[38;5;129;01min\u001b[39;00m \u001b[38;5;28mself\u001b[39m\u001b[38;5;241m.\u001b[39mobjs:\n\u001b[1;32m    670\u001b[0m     indexers \u001b[38;5;241m=\u001b[39m {}\n\u001b[0;32m--> 671\u001b[0m     \u001b[38;5;28;01mfor\u001b[39;00m ax, new_labels \u001b[38;5;129;01min\u001b[39;00m \u001b[38;5;28menumerate\u001b[39m(\u001b[38;5;28mself\u001b[39m\u001b[38;5;241m.\u001b[39mnew_axes):\n\u001b[1;32m    672\u001b[0m         \u001b[38;5;66;03m# ::-1 to convert BlockManager ax to DataFrame ax\u001b[39;00m\n\u001b[1;32m    673\u001b[0m         \u001b[38;5;28;01mif\u001b[39;00m ax \u001b[38;5;241m==\u001b[39m \u001b[38;5;28mself\u001b[39m\u001b[38;5;241m.\u001b[39mbm_axis:\n\u001b[1;32m    674\u001b[0m             \u001b[38;5;66;03m# Suppress reindexing on concat axis\u001b[39;00m\n\u001b[1;32m    675\u001b[0m             \u001b[38;5;28;01mcontinue\u001b[39;00m\n",
      "File \u001b[0;32mproperties.pyx:36\u001b[0m, in \u001b[0;36mpandas._libs.properties.CachedProperty.__get__\u001b[0;34m()\u001b[0m\n",
      "File \u001b[0;32m~/miniforge3/envs/gnss_vod/lib/python3.13/site-packages/pandas/core/reshape/concat.py:703\u001b[0m, in \u001b[0;36m_Concatenator.new_axes\u001b[0;34m(self)\u001b[0m\n\u001b[1;32m    699\u001b[0m \u001b[38;5;129m@cache_readonly\u001b[39m\n\u001b[1;32m    700\u001b[0m \u001b[38;5;28;01mdef\u001b[39;00m \u001b[38;5;21mnew_axes\u001b[39m(\u001b[38;5;28mself\u001b[39m) \u001b[38;5;241m-\u001b[39m\u001b[38;5;241m>\u001b[39m \u001b[38;5;28mlist\u001b[39m[Index]:\n\u001b[1;32m    701\u001b[0m     ndim \u001b[38;5;241m=\u001b[39m \u001b[38;5;28mself\u001b[39m\u001b[38;5;241m.\u001b[39m_get_result_dim()\n\u001b[1;32m    702\u001b[0m     \u001b[38;5;28;01mreturn\u001b[39;00m [\n\u001b[0;32m--> 703\u001b[0m         \u001b[38;5;28mself\u001b[39m\u001b[38;5;241m.\u001b[39m_get_concat_axis \u001b[38;5;28;01mif\u001b[39;00m i \u001b[38;5;241m==\u001b[39m \u001b[38;5;28mself\u001b[39m\u001b[38;5;241m.\u001b[39mbm_axis \u001b[38;5;28;01melse\u001b[39;00m \u001b[38;5;28mself\u001b[39m\u001b[38;5;241m.\u001b[39m_get_comb_axis(i)\n\u001b[1;32m    704\u001b[0m         \u001b[38;5;28;01mfor\u001b[39;00m i \u001b[38;5;129;01min\u001b[39;00m \u001b[38;5;28mrange\u001b[39m(ndim)\n\u001b[1;32m    705\u001b[0m     ]\n",
      "File \u001b[0;32mproperties.pyx:36\u001b[0m, in \u001b[0;36mpandas._libs.properties.CachedProperty.__get__\u001b[0;34m()\u001b[0m\n",
      "File \u001b[0;32m~/miniforge3/envs/gnss_vod/lib/python3.13/site-packages/pandas/core/reshape/concat.py:762\u001b[0m, in \u001b[0;36m_Concatenator._get_concat_axis\u001b[0;34m(self)\u001b[0m\n\u001b[1;32m    760\u001b[0m     concat_axis \u001b[38;5;241m=\u001b[39m _concat_indexes(indexes)\n\u001b[1;32m    761\u001b[0m \u001b[38;5;28;01melse\u001b[39;00m:\n\u001b[0;32m--> 762\u001b[0m     concat_axis \u001b[38;5;241m=\u001b[39m _make_concat_multiindex(\n\u001b[1;32m    763\u001b[0m         indexes, \u001b[38;5;28mself\u001b[39m\u001b[38;5;241m.\u001b[39mkeys, \u001b[38;5;28mself\u001b[39m\u001b[38;5;241m.\u001b[39mlevels, \u001b[38;5;28mself\u001b[39m\u001b[38;5;241m.\u001b[39mnames\n\u001b[1;32m    764\u001b[0m     )\n\u001b[1;32m    766\u001b[0m \u001b[38;5;28mself\u001b[39m\u001b[38;5;241m.\u001b[39m_maybe_check_integrity(concat_axis)\n\u001b[1;32m    768\u001b[0m \u001b[38;5;28;01mreturn\u001b[39;00m concat_axis\n",
      "File \u001b[0;32m~/miniforge3/envs/gnss_vod/lib/python3.13/site-packages/pandas/core/reshape/concat.py:845\u001b[0m, in \u001b[0;36m_make_concat_multiindex\u001b[0;34m(indexes, keys, levels, names)\u001b[0m\n\u001b[1;32m    842\u001b[0m \u001b[38;5;28;01melse\u001b[39;00m:\n\u001b[1;32m    843\u001b[0m     \u001b[38;5;66;03m# make sure that all of the passed indices have the same nlevels\u001b[39;00m\n\u001b[1;32m    844\u001b[0m     \u001b[38;5;28;01mif\u001b[39;00m \u001b[38;5;129;01mnot\u001b[39;00m \u001b[38;5;28mlen\u001b[39m({idx\u001b[38;5;241m.\u001b[39mnlevels \u001b[38;5;28;01mfor\u001b[39;00m idx \u001b[38;5;129;01min\u001b[39;00m indexes}) \u001b[38;5;241m==\u001b[39m \u001b[38;5;241m1\u001b[39m:\n\u001b[0;32m--> 845\u001b[0m         \u001b[38;5;28;01mraise\u001b[39;00m \u001b[38;5;167;01mAssertionError\u001b[39;00m(\n\u001b[1;32m    846\u001b[0m             \u001b[38;5;124m\"\u001b[39m\u001b[38;5;124mCannot concat indices that do not have the same number of levels\u001b[39m\u001b[38;5;124m\"\u001b[39m\n\u001b[1;32m    847\u001b[0m         )\n\u001b[1;32m    849\u001b[0m     \u001b[38;5;66;03m# also copies\u001b[39;00m\n\u001b[1;32m    850\u001b[0m     names \u001b[38;5;241m=\u001b[39m \u001b[38;5;28mlist\u001b[39m(names) \u001b[38;5;241m+\u001b[39m \u001b[38;5;28mlist\u001b[39m(get_unanimous_names(\u001b[38;5;241m*\u001b[39mindexes))\n",
      "\u001b[0;31mAssertionError\u001b[0m: Cannot concat indices that do not have the same number of levels"
     ]
    }
   ],
   "source": [
    "#MACROCOSM 5.3\n",
    "pairings={'MACROCOSM-5.2':('MACROCOSM-5','MACROCOSM-2')}\n",
    "outputdir={'MACROCOSM-5.2':'/Volumes/coraldelmar/march_collection/MACROCOSM-5.2'}\n",
    "keepvars=['S*','Azimuth','Elevation']\n",
    "out=gv.gather_stations(pattern,pairings,timeintervals,outputresult=True)"
   ]
  },
  {
   "cell_type": "code",
   "execution_count": 20,
   "id": "9601cef5-139b-44d4-a35f-cfd600dc8769",
   "metadata": {
    "collapsed": true,
    "jupyter": {
     "outputs_hidden": true
    },
    "tags": []
   },
   "outputs": [
    {
     "name": "stdout",
     "output_type": "stream",
     "text": [
      "Extracting Epochs from files\n",
      "----- Processing MACROCOSM-5.7\n",
      "-- Processing interval [2025-02-01 00:00:00, 2025-02-02 00:00:00)\n",
      "Found 2 file(s) for MACROCOSM-5\n",
      "Reading\n",
      "Found 2 file(s) for MACROCOSM-7\n",
      "Reading\n",
      "Concatenating stations\n",
      "Saving result in /Volumes/coraldelmar/march_collection/MACROCOSM-5.7\n",
      "Saved 108609 observations in MACROCOSM-5.7_20250201000000_20250202000000.nc\n",
      "-- Processing interval [2025-02-02 00:00:00, 2025-02-03 00:00:00)\n",
      "Found 2 file(s) for MACROCOSM-5\n",
      "Reading\n",
      "Found 2 file(s) for MACROCOSM-7\n",
      "Reading\n",
      "Concatenating stations\n",
      "Saving result in /Volumes/coraldelmar/march_collection/MACROCOSM-5.7\n",
      "Saved 161833 observations in MACROCOSM-5.7_20250202000000_20250203000000.nc\n",
      "-- Processing interval [2025-02-03 00:00:00, 2025-02-04 00:00:00)\n",
      "Found 2 file(s) for MACROCOSM-5\n",
      "Reading\n",
      "Found 2 file(s) for MACROCOSM-7\n",
      "Reading\n",
      "Concatenating stations\n",
      "Saving result in /Volumes/coraldelmar/march_collection/MACROCOSM-5.7\n",
      "Saved 157678 observations in MACROCOSM-5.7_20250203000000_20250204000000.nc\n",
      "-- Processing interval [2025-02-04 00:00:00, 2025-02-05 00:00:00)\n",
      "Found 2 file(s) for MACROCOSM-5\n",
      "Reading\n",
      "Found 2 file(s) for MACROCOSM-7\n",
      "Reading\n",
      "Concatenating stations\n",
      "Saving result in /Volumes/coraldelmar/march_collection/MACROCOSM-5.7\n",
      "Saved 157288 observations in MACROCOSM-5.7_20250204000000_20250205000000.nc\n",
      "-- Processing interval [2025-02-05 00:00:00, 2025-02-06 00:00:00)\n",
      "Found 2 file(s) for MACROCOSM-5\n",
      "Reading\n",
      "Found 2 file(s) for MACROCOSM-7\n",
      "Reading\n",
      "Concatenating stations\n",
      "Saving result in /Volumes/coraldelmar/march_collection/MACROCOSM-5.7\n",
      "Saved 161732 observations in MACROCOSM-5.7_20250205000000_20250206000000.nc\n",
      "-- Processing interval [2025-02-06 00:00:00, 2025-02-07 00:00:00)\n",
      "Found 2 file(s) for MACROCOSM-5\n",
      "Reading\n",
      "Found 2 file(s) for MACROCOSM-7\n",
      "Reading\n",
      "Concatenating stations\n",
      "Saving result in /Volumes/coraldelmar/march_collection/MACROCOSM-5.7\n",
      "Saved 162305 observations in MACROCOSM-5.7_20250206000000_20250207000000.nc\n",
      "-- Processing interval [2025-02-07 00:00:00, 2025-02-08 00:00:00)\n",
      "Found 2 file(s) for MACROCOSM-5\n",
      "Reading\n",
      "Found 2 file(s) for MACROCOSM-7\n",
      "Reading\n",
      "Concatenating stations\n",
      "Saving result in /Volumes/coraldelmar/march_collection/MACROCOSM-5.7\n",
      "Saved 153528 observations in MACROCOSM-5.7_20250207000000_20250208000000.nc\n",
      "-- Processing interval [2025-02-08 00:00:00, 2025-02-09 00:00:00)\n",
      "Found 2 file(s) for MACROCOSM-5\n",
      "Reading\n",
      "Found 2 file(s) for MACROCOSM-7\n",
      "Reading\n",
      "Concatenating stations\n",
      "Saving result in /Volumes/coraldelmar/march_collection/MACROCOSM-5.7\n",
      "Saved 152636 observations in MACROCOSM-5.7_20250208000000_20250209000000.nc\n",
      "-- Processing interval [2025-02-09 00:00:00, 2025-02-10 00:00:00)\n",
      "Found 2 file(s) for MACROCOSM-5\n",
      "Reading\n",
      "Found 1 file(s) for MACROCOSM-7\n",
      "Reading\n",
      "Concatenating stations\n",
      "Saving result in /Volumes/coraldelmar/march_collection/MACROCOSM-5.7\n",
      "Saved 128804 observations in MACROCOSM-5.7_20250209000000_20250210000000.nc\n",
      "-- Processing interval [2025-02-10 00:00:00, 2025-02-11 00:00:00)\n",
      "Found 2 file(s) for MACROCOSM-5\n",
      "Reading\n",
      "Found 0 file(s) for MACROCOSM-7\n",
      "No data for station MACROCOSM-7.\n",
      "Concatenating stations\n"
     ]
    },
    {
     "ename": "AssertionError",
     "evalue": "Cannot concat indices that do not have the same number of levels",
     "output_type": "error",
     "traceback": [
      "\u001b[0;31m---------------------------------------------------------------------------\u001b[0m",
      "\u001b[0;31mAssertionError\u001b[0m                            Traceback (most recent call last)",
      "Cell \u001b[0;32mIn[20], line 6\u001b[0m\n\u001b[1;32m      4\u001b[0m outputdir\u001b[38;5;241m=\u001b[39m{\u001b[38;5;124m'\u001b[39m\u001b[38;5;124mMACROCOSM-5.7\u001b[39m\u001b[38;5;124m'\u001b[39m:\u001b[38;5;124m'\u001b[39m\u001b[38;5;124m/Volumes/coraldelmar/march_collection/MACROCOSM-5.7\u001b[39m\u001b[38;5;124m'\u001b[39m}\n\u001b[1;32m      5\u001b[0m keepvars\u001b[38;5;241m=\u001b[39m[\u001b[38;5;124m'\u001b[39m\u001b[38;5;124mS*\u001b[39m\u001b[38;5;124m'\u001b[39m,\u001b[38;5;124m'\u001b[39m\u001b[38;5;124mAzimuth\u001b[39m\u001b[38;5;124m'\u001b[39m,\u001b[38;5;124m'\u001b[39m\u001b[38;5;124mElevation\u001b[39m\u001b[38;5;124m'\u001b[39m]\n\u001b[0;32m----> 6\u001b[0m out\u001b[38;5;241m=\u001b[39mgv\u001b[38;5;241m.\u001b[39mgather_stations(pattern,pairings,timeintervals,keepvars\u001b[38;5;241m=\u001b[39mkeepvars,outputdir\u001b[38;5;241m=\u001b[39moutputdir)\n",
      "File \u001b[0;32m~/miniforge3/envs/gnss_vod/lib/python3.13/site-packages/gnssvod/io/preprocess.py:379\u001b[0m, in \u001b[0;36mgather_stations\u001b[0;34m(filepattern, pairings, timeintervals, keepvars, outputdir, encoding, outputresult)\u001b[0m\n\u001b[1;32m    377\u001b[0m \u001b[38;5;28;01mif\u001b[39;00m \u001b[38;5;129;01mnot\u001b[39;00m \u001b[38;5;28mall\u001b[39m([x\u001b[38;5;241m.\u001b[39mempty \u001b[38;5;28;01mfor\u001b[39;00m x \u001b[38;5;129;01min\u001b[39;00m iout]):\n\u001b[1;32m    378\u001b[0m     \u001b[38;5;28mprint\u001b[39m(\u001b[38;5;124mf\u001b[39m\u001b[38;5;124m'\u001b[39m\u001b[38;5;124mConcatenating stations\u001b[39m\u001b[38;5;124m'\u001b[39m)\n\u001b[0;32m--> 379\u001b[0m     iout \u001b[38;5;241m=\u001b[39m pd\u001b[38;5;241m.\u001b[39mconcat(iout, keys\u001b[38;5;241m=\u001b[39mstation_names, names\u001b[38;5;241m=\u001b[39m[\u001b[38;5;124m'\u001b[39m\u001b[38;5;124mStation\u001b[39m\u001b[38;5;124m'\u001b[39m])\n\u001b[1;32m    381\u001b[0m     \u001b[38;5;66;03m# only keep required vars and drop potential empty rows\u001b[39;00m\n\u001b[1;32m    382\u001b[0m     \u001b[38;5;28;01mif\u001b[39;00m keepvars \u001b[38;5;129;01mis\u001b[39;00m \u001b[38;5;129;01mnot\u001b[39;00m \u001b[38;5;28;01mNone\u001b[39;00m:\n",
      "File \u001b[0;32m~/miniforge3/envs/gnss_vod/lib/python3.13/site-packages/pandas/core/reshape/concat.py:395\u001b[0m, in \u001b[0;36mconcat\u001b[0;34m(objs, axis, join, ignore_index, keys, levels, names, verify_integrity, sort, copy)\u001b[0m\n\u001b[1;32m    380\u001b[0m     copy \u001b[38;5;241m=\u001b[39m \u001b[38;5;28;01mFalse\u001b[39;00m\n\u001b[1;32m    382\u001b[0m op \u001b[38;5;241m=\u001b[39m _Concatenator(\n\u001b[1;32m    383\u001b[0m     objs,\n\u001b[1;32m    384\u001b[0m     axis\u001b[38;5;241m=\u001b[39maxis,\n\u001b[0;32m   (...)\u001b[0m\n\u001b[1;32m    392\u001b[0m     sort\u001b[38;5;241m=\u001b[39msort,\n\u001b[1;32m    393\u001b[0m )\n\u001b[0;32m--> 395\u001b[0m \u001b[38;5;28;01mreturn\u001b[39;00m op\u001b[38;5;241m.\u001b[39mget_result()\n",
      "File \u001b[0;32m~/miniforge3/envs/gnss_vod/lib/python3.13/site-packages/pandas/core/reshape/concat.py:671\u001b[0m, in \u001b[0;36m_Concatenator.get_result\u001b[0;34m(self)\u001b[0m\n\u001b[1;32m    669\u001b[0m \u001b[38;5;28;01mfor\u001b[39;00m obj \u001b[38;5;129;01min\u001b[39;00m \u001b[38;5;28mself\u001b[39m\u001b[38;5;241m.\u001b[39mobjs:\n\u001b[1;32m    670\u001b[0m     indexers \u001b[38;5;241m=\u001b[39m {}\n\u001b[0;32m--> 671\u001b[0m     \u001b[38;5;28;01mfor\u001b[39;00m ax, new_labels \u001b[38;5;129;01min\u001b[39;00m \u001b[38;5;28menumerate\u001b[39m(\u001b[38;5;28mself\u001b[39m\u001b[38;5;241m.\u001b[39mnew_axes):\n\u001b[1;32m    672\u001b[0m         \u001b[38;5;66;03m# ::-1 to convert BlockManager ax to DataFrame ax\u001b[39;00m\n\u001b[1;32m    673\u001b[0m         \u001b[38;5;28;01mif\u001b[39;00m ax \u001b[38;5;241m==\u001b[39m \u001b[38;5;28mself\u001b[39m\u001b[38;5;241m.\u001b[39mbm_axis:\n\u001b[1;32m    674\u001b[0m             \u001b[38;5;66;03m# Suppress reindexing on concat axis\u001b[39;00m\n\u001b[1;32m    675\u001b[0m             \u001b[38;5;28;01mcontinue\u001b[39;00m\n",
      "File \u001b[0;32mproperties.pyx:36\u001b[0m, in \u001b[0;36mpandas._libs.properties.CachedProperty.__get__\u001b[0;34m()\u001b[0m\n",
      "File \u001b[0;32m~/miniforge3/envs/gnss_vod/lib/python3.13/site-packages/pandas/core/reshape/concat.py:703\u001b[0m, in \u001b[0;36m_Concatenator.new_axes\u001b[0;34m(self)\u001b[0m\n\u001b[1;32m    699\u001b[0m \u001b[38;5;129m@cache_readonly\u001b[39m\n\u001b[1;32m    700\u001b[0m \u001b[38;5;28;01mdef\u001b[39;00m \u001b[38;5;21mnew_axes\u001b[39m(\u001b[38;5;28mself\u001b[39m) \u001b[38;5;241m-\u001b[39m\u001b[38;5;241m>\u001b[39m \u001b[38;5;28mlist\u001b[39m[Index]:\n\u001b[1;32m    701\u001b[0m     ndim \u001b[38;5;241m=\u001b[39m \u001b[38;5;28mself\u001b[39m\u001b[38;5;241m.\u001b[39m_get_result_dim()\n\u001b[1;32m    702\u001b[0m     \u001b[38;5;28;01mreturn\u001b[39;00m [\n\u001b[0;32m--> 703\u001b[0m         \u001b[38;5;28mself\u001b[39m\u001b[38;5;241m.\u001b[39m_get_concat_axis \u001b[38;5;28;01mif\u001b[39;00m i \u001b[38;5;241m==\u001b[39m \u001b[38;5;28mself\u001b[39m\u001b[38;5;241m.\u001b[39mbm_axis \u001b[38;5;28;01melse\u001b[39;00m \u001b[38;5;28mself\u001b[39m\u001b[38;5;241m.\u001b[39m_get_comb_axis(i)\n\u001b[1;32m    704\u001b[0m         \u001b[38;5;28;01mfor\u001b[39;00m i \u001b[38;5;129;01min\u001b[39;00m \u001b[38;5;28mrange\u001b[39m(ndim)\n\u001b[1;32m    705\u001b[0m     ]\n",
      "File \u001b[0;32mproperties.pyx:36\u001b[0m, in \u001b[0;36mpandas._libs.properties.CachedProperty.__get__\u001b[0;34m()\u001b[0m\n",
      "File \u001b[0;32m~/miniforge3/envs/gnss_vod/lib/python3.13/site-packages/pandas/core/reshape/concat.py:762\u001b[0m, in \u001b[0;36m_Concatenator._get_concat_axis\u001b[0;34m(self)\u001b[0m\n\u001b[1;32m    760\u001b[0m     concat_axis \u001b[38;5;241m=\u001b[39m _concat_indexes(indexes)\n\u001b[1;32m    761\u001b[0m \u001b[38;5;28;01melse\u001b[39;00m:\n\u001b[0;32m--> 762\u001b[0m     concat_axis \u001b[38;5;241m=\u001b[39m _make_concat_multiindex(\n\u001b[1;32m    763\u001b[0m         indexes, \u001b[38;5;28mself\u001b[39m\u001b[38;5;241m.\u001b[39mkeys, \u001b[38;5;28mself\u001b[39m\u001b[38;5;241m.\u001b[39mlevels, \u001b[38;5;28mself\u001b[39m\u001b[38;5;241m.\u001b[39mnames\n\u001b[1;32m    764\u001b[0m     )\n\u001b[1;32m    766\u001b[0m \u001b[38;5;28mself\u001b[39m\u001b[38;5;241m.\u001b[39m_maybe_check_integrity(concat_axis)\n\u001b[1;32m    768\u001b[0m \u001b[38;5;28;01mreturn\u001b[39;00m concat_axis\n",
      "File \u001b[0;32m~/miniforge3/envs/gnss_vod/lib/python3.13/site-packages/pandas/core/reshape/concat.py:845\u001b[0m, in \u001b[0;36m_make_concat_multiindex\u001b[0;34m(indexes, keys, levels, names)\u001b[0m\n\u001b[1;32m    842\u001b[0m \u001b[38;5;28;01melse\u001b[39;00m:\n\u001b[1;32m    843\u001b[0m     \u001b[38;5;66;03m# make sure that all of the passed indices have the same nlevels\u001b[39;00m\n\u001b[1;32m    844\u001b[0m     \u001b[38;5;28;01mif\u001b[39;00m \u001b[38;5;129;01mnot\u001b[39;00m \u001b[38;5;28mlen\u001b[39m({idx\u001b[38;5;241m.\u001b[39mnlevels \u001b[38;5;28;01mfor\u001b[39;00m idx \u001b[38;5;129;01min\u001b[39;00m indexes}) \u001b[38;5;241m==\u001b[39m \u001b[38;5;241m1\u001b[39m:\n\u001b[0;32m--> 845\u001b[0m         \u001b[38;5;28;01mraise\u001b[39;00m \u001b[38;5;167;01mAssertionError\u001b[39;00m(\n\u001b[1;32m    846\u001b[0m             \u001b[38;5;124m\"\u001b[39m\u001b[38;5;124mCannot concat indices that do not have the same number of levels\u001b[39m\u001b[38;5;124m\"\u001b[39m\n\u001b[1;32m    847\u001b[0m         )\n\u001b[1;32m    849\u001b[0m     \u001b[38;5;66;03m# also copies\u001b[39;00m\n\u001b[1;32m    850\u001b[0m     names \u001b[38;5;241m=\u001b[39m \u001b[38;5;28mlist\u001b[39m(names) \u001b[38;5;241m+\u001b[39m \u001b[38;5;28mlist\u001b[39m(get_unanimous_names(\u001b[38;5;241m*\u001b[39mindexes))\n",
      "\u001b[0;31mAssertionError\u001b[0m: Cannot concat indices that do not have the same number of levels"
     ]
    }
   ],
   "source": [
    "#MACROCOSM 5.7\n",
    "##pairs with 15-01-2025\n",
    "pairings={'MACROCOSM-5.7':('MACROCOSM-5','MACROCOSM-7')}\n",
    "outputdir={'MACROCOSM-5.7':'/Volumes/coraldelmar/march_collection/MACROCOSM-5.7'}\n",
    "keepvars=['S*','Azimuth','Elevation']\n",
    "out=gv.gather_stations(pattern,pairings,timeintervals,keepvars=keepvars,outputdir=outputdir)"
   ]
  },
  {
   "cell_type": "code",
   "execution_count": null,
   "id": "b3c58abd-412b-4113-9d6b-3990b255e363",
   "metadata": {},
   "outputs": [],
   "source": [
    "pairings={'MACROCOSM-1.2':('MACROCOSM-1','MACROCOSM-2')}\n",
    "outputdir={'MACROCOSM-1.2':'/Volumes/coraldelmar/march_collection/MACROCOSM-1.2'}\n",
    "keepvars=['S*','Azimuth','Elevation']\n",
    "out=gv.gather_stations(pattern,pairings,timeintervals,keepvars=keepvars,outputdir=outputdir)"
   ]
  },
  {
   "cell_type": "code",
   "execution_count": null,
   "id": "b229dc96-a32a-4b3b-8361-d90272a84ad3",
   "metadata": {},
   "outputs": [],
   "source": [
    "pairings={'MACROCOSM-1.3':('MACROCOSM-1','MACROCOSM-3')}\n",
    "outputdir={'MACROCOSM-1.3':'/Volumes/coraldelmar/march_collection/MACROCOSM-1.3'}\n",
    "keepvars=['S*','Azimuth','Elevation']\n",
    "out=gv.gather_stations(pattern,pairings,timeintervals,keepvars=keepvars,outputdir=outputdir)"
   ]
  },
  {
   "cell_type": "code",
   "execution_count": null,
   "id": "01adc0e4-82e7-46af-a0b5-06b098d89891",
   "metadata": {},
   "outputs": [],
   "source": [
    "pairings={'MACROCOSM-1.7':('MACROCOSM-1','MACROCOSM-7')}\n",
    "outputdir={'MACROCOSM-1.7':'/Volumes/coraldelmar/march_collection/MACROCOSM-1.7'}\n",
    "keepvars=['S*','Azimuth','Elevation']\n",
    "out=gv.gather_stations(pattern,pairings,timeintervals,keepvars=keepvars,outputdir=outputdir)"
   ]
  },
  {
   "cell_type": "markdown",
   "id": "830e9977-26c0-4b0a-bfff-08aa41604620",
   "metadata": {},
   "source": [
    "--once you have paired--"
   ]
  },
  {
   "cell_type": "code",
   "execution_count": null,
   "id": "e2a8f2c4-6a9b-4b1f-943b-467a7a07810b",
   "metadata": {},
   "outputs": [],
   "source": [
    "ds=xr.open_mfdataset('/Volumes/coraldelmar/march_collection/MACROCOSM-5.7/*.nc',combine='nested',concat_dim='Epoch')\n",
    "ds"
   ]
  },
  {
   "cell_type": "code",
   "execution_count": null,
   "id": "b0670cf3-5e2a-440f-824e-c60be7331f0d",
   "metadata": {},
   "outputs": [],
   "source": [
    "df=ds.to_dataframe().dropna(how='all').reorder_levels([\"Station\",\"Epoch\",\"SV\"]).sort_index()\n",
    "df"
   ]
  },
  {
   "cell_type": "code",
   "execution_count": null,
   "id": "928102ce-0b81-43c8-bc45-18a580086a68",
   "metadata": {},
   "outputs": [],
   "source": [
    "mySV='R20'\n",
    "mystation_name='MACROCOSM-5'\n",
    "fig,ax=plt.subplots(figsize=(10,10),subplot_kw=dict(projection='polar'))\n",
    "subdf=df.xs(mySV,level='SV').xs(mystation_name,level='Station')\n",
    "radius=90-subdf.Elevation\n",
    "theta=np.deg2rad(subdf.Azimuth)\n",
    "hs=ax.scatter(theta,radius,c=subdf.S1C)\n",
    "ax.set_rlim([0,90])\n",
    "ax.set_theta_zero_location(\"N\")\n",
    "plt.colorbar(hs,shrink=.5,label='SNR (L1)')\n",
    "plt.title(mystation_name)"
   ]
  },
  {
   "cell_type": "code",
   "execution_count": null,
   "id": "d429d654-6966-4c21-9e2b-439b038fbee8",
   "metadata": {},
   "outputs": [],
   "source": [
    "# get all sites as list\n",
    "station_names = df.index.get_level_values('Station').unique()\n",
    "# ensure we use the same color limits in all plots\n",
    "clim = [15,47]\n",
    "# initialize figure with polar axes\n",
    "fig, ax = plt.subplots(1,len(station_names),figsize=(10,10),subplot_kw=dict(projection='polar'))\n",
    "for i, iname in enumerate(station_names):\n",
    "    # subset the dataset\n",
    "    subdf = df.xs(iname,level='Station')\n",
    "    # polar plots need a radius and theta direction in radians\n",
    "    radius = 90-subdf.Elevation\n",
    "    theta = np.deg2rad(subdf.Azimuth)\n",
    "    # plot each measurement and color by signal to noise ratio\n",
    "    hs = ax[i].scatter(theta,radius,c=subdf.S1C,s=10)\n",
    "    hs.set_clim(clim)\n",
    "    ax[i].set_rlim([0,90])\n",
    "    ax[i].set_theta_zero_location(\"N\")\n",
    "    ax[i].set_title(iname)\n",
    "\n",
    "plt.colorbar(hs, ax=ax, location='bottom', shrink=.5, pad=0.05, label='SNR (L1)')"
   ]
  },
  {
   "cell_type": "code",
   "execution_count": null,
   "id": "aa4507dc-2b85-4e9f-868d-3a8a383f1bd7",
   "metadata": {},
   "outputs": [],
   "source": [
    "mySV = 'R20'\n",
    "# get all sites as list\n",
    "station_names = df.index.get_level_values('Station').unique()\n",
    "\n",
    "fig, ax = plt.subplots(1,figsize=(10,5))\n",
    "for i, iname in enumerate(station_names):\n",
    "    # subset the dataset\n",
    "    subdf = df.xs(iname,level='Station').xs(mySV,level='SV')\n",
    "    # plot each measurement and color by signal to noise ratio\n",
    "    hs = ax.plot(subdf.index.get_level_values('Epoch'),subdf.S1C,label=iname)\n",
    "    \n",
    "myFmt = mdates.DateFormatter('%D:%H')\n",
    "ax.xaxis.set_major_formatter(myFmt)\n",
    "ax.set_ylabel('SNR (L1)')\n",
    "ax.legend()\n",
    "plt.title(mySV)"
   ]
  },
  {
   "cell_type": "markdown",
   "id": "765617c9-3b99-44ce-8ceb-5f067ade3b14",
   "metadata": {},
   "source": [
    "for vod calc+plotting"
   ]
  },
  {
   "cell_type": "code",
   "execution_count": null,
   "id": "d5e2332f-0ef8-48fa-b8b5-498cb3c80e2b",
   "metadata": {},
   "outputs": [],
   "source": [
    "hemi = gv.hemibuild(4)\n",
    "hemi"
   ]
  },
  {
   "cell_type": "code",
   "execution_count": null,
   "id": "66fe65c9-b09e-4bc2-a4e2-c40d69ff655a",
   "metadata": {},
   "outputs": [],
   "source": [
    "hemi.grid"
   ]
  },
  {
   "cell_type": "code",
   "execution_count": null,
   "id": "9f605057-5022-475f-85c8-4576c0b28b61",
   "metadata": {},
   "outputs": [],
   "source": [
    "# get patches\n",
    "patches = hemi.patches() \n",
    "patches"
   ]
  },
  {
   "cell_type": "code",
   "execution_count": null,
   "id": "44797035-0f65-477a-912b-efa561b40459",
   "metadata": {},
   "outputs": [],
   "source": [
    "newdf = hemi.add_CellID(df)\n",
    "newdf"
   ]
  },
  {
   "cell_type": "code",
   "execution_count": null,
   "id": "5ebc1be5-833d-45ee-87c9-5cc2a478a4da",
   "metadata": {},
   "outputs": [],
   "source": [
    "hemi_average = newdf.groupby(['CellID','Station']).mean()\n",
    "hemi_average"
   ]
  },
  {
   "cell_type": "code",
   "execution_count": null,
   "id": "d512ca38-3f3c-45f0-8911-8b411660afb3",
   "metadata": {},
   "outputs": [],
   "source": [
    "fig, ax = plt.subplots(1,2,figsize=(10,10),subplot_kw=dict(projection='polar'))\n",
    "\n",
    "station_names = df.index.get_level_values('Station').unique()\n",
    "for i, iname in enumerate(station_names):\n",
    "    # associate the mean values to the patches, join inner will drop patches with no data, making plotting slightly faster\n",
    "    ipatches = pd.concat([patches,hemi_average.xs(iname, level='Station')],join='inner',axis=1)\n",
    "    # plotting with colored patches\n",
    "    pc = PatchCollection(ipatches.Patches,array=ipatches.S1C,edgecolor='face', linewidth=1)\n",
    "    pc.set_clim([25,50])\n",
    "    ax[i].add_collection(pc)\n",
    "    ax[i].set_rlim([0,90])\n",
    "    ax[i].set_theta_zero_location(\"N\")\n",
    "    ax[i].set_title(iname)\n",
    "\n",
    "plt.colorbar(pc, ax=ax, location='bottom', shrink=.5, pad=0.05, label='SNR (L1)')\n",
    "#plt.savefig('figures/illustration_snr.png',facecolor='white', transparent=False,bbox_inches='tight')"
   ]
  },
  {
   "cell_type": "code",
   "execution_count": null,
   "id": "2006f1e9-c67f-4034-a9bf-be196ef60c1d",
   "metadata": {},
   "outputs": [],
   "source": [
    "hemi_count = newdf.groupby(['CellID','Station']).count()\n",
    "hemi_count\n",
    "\n",
    "fig, ax = plt.subplots(1,2,figsize=(10,10),subplot_kw=dict(projection='polar'))\n",
    "\n",
    "station_names = df.index.get_level_values('Station').unique()\n",
    "for i, iname in enumerate(station_names):\n",
    "    # associate the mean values to the patches, join inner will drop patches with no data, making plotting slightly faster\n",
    "    ipatches = pd.concat([patches,hemi_count.xs(iname, level='Station')],join='inner',axis=1)\n",
    "    # plotting with colored patches\n",
    "    pc = PatchCollection(ipatches.Patches,array=ipatches.S1C,edgecolor='face', linewidth=1)\n",
    "    pc.set_clim([0,200])\n",
    "    ax[i].add_collection(pc)\n",
    "    ax[i].set_rlim([0,90])\n",
    "    ax[i].set_theta_zero_location(\"N\")\n",
    "    ax[i].set_title(iname)\n",
    "\n",
    "plt.colorbar(pc, ax=ax, location='bottom', shrink=.5, pad=0.05, label='# of obs')"
   ]
  },
  {
   "cell_type": "code",
   "execution_count": null,
   "id": "80ba23d0-fa81-4774-8338-b3378e8322d7",
   "metadata": {},
   "outputs": [],
   "source": [
    "# set which data files should be loaded\n",
    "pattern = '/Volumes/coraldelmar/march_collection/MACROCOSM-5.7/*.nc'\n",
    "# define how to associate stations together. Always put reference station first.\n",
    "pairings={'MACROCOSM-5.7':('MACROCOSM-5','MACROCOSM-7')}\n",
    "# define if some observables with similar frequencies should be combined together. In the future, this should be replaced by the selection of frequency bands.\n",
    "bands = {'VOD1':['S1','S1X','S1C'],'VOD2':['S2','S2X','S2C']}\n",
    "\n",
    "vod = gv.calc_vod(pattern,pairings,bands)\n",
    "vod = vod['MACROCOSM-5.7']\n",
    "vod"
   ]
  },
  {
   "cell_type": "code",
   "execution_count": null,
   "id": "cfa4f8f7-3cc9-409d-ae13-4159f5cdde56",
   "metadata": {},
   "outputs": [],
   "source": [
    "# intialize hemispheric grid\n",
    "hemi = gv.hemibuild(2)\n",
    "# get patches for plotting later\n",
    "patches = hemi.patches()\n",
    "# classify vod into grid cells, drop azimuth and elevation afterwards as we don't need it anymore\n",
    "vod = hemi.add_CellID(vod).drop(columns=['Azimuth','Elevation'])\n",
    "# get average value per grid cell\n",
    "vod_avg = vod.groupby(['CellID']).agg(['mean', 'std', 'count'])\n",
    "# flatten the columns\n",
    "vod_avg.columns = [\"_\".join(x) for x in vod_avg.columns.to_flat_index()]\n",
    "vod_avg"
   ]
  },
  {
   "cell_type": "code",
   "execution_count": null,
   "id": "ebed1f1b-4167-44f5-b47a-dbc9c48a3ed2",
   "metadata": {},
   "outputs": [],
   "source": [
    "fig, ax = plt.subplots(1,2,figsize=(17,14),subplot_kw=dict(projection='polar'))\n",
    "\n",
    "vod_names = ['VOD1','VOD2']\n",
    "for i, iname in enumerate(vod_names):\n",
    "    # associate the mean values to the patches, join inner will drop patches with no data, making plotting slightly faster\n",
    "    ipatches = pd.concat([patches,vod_avg[f\"{iname}_mean\"]],join='inner',axis=1)\n",
    "    # plotting with colored patches\n",
    "    pc = PatchCollection(ipatches.Patches,array=ipatches[f\"{iname}_mean\"],edgecolor='face', linewidth=1)\n",
    "    pc.set_clim([-0.1,3])\n",
    "    ax[i].add_collection(pc)\n",
    "    ax[i].set_rlim([0,90])\n",
    "    ax[i].set_theta_zero_location(\"N\")\n",
    "    ax[i].set_theta_direction(-1)\n",
    "    ax[i].set_title(iname)\n",
    "\n",
    "plt.colorbar(pc, ax=ax, location='bottom', shrink=.5, pad=0.05, label='GNSS-VOD')"
   ]
  },
  {
   "cell_type": "code",
   "execution_count": null,
   "id": "4ff363bb-18e1-4bf2-a2f6-8050cfcea836",
   "metadata": {},
   "outputs": [],
   "source": [
    "fig, ax = plt.subplots(1,2,figsize=(17,14),subplot_kw=dict(projection='polar'))\n",
    "\n",
    "vod_names = ['VOD1','VOD2']\n",
    "for i, iname in enumerate(vod_names):\n",
    "    # associate the mean values to the patches, join inner will drop patches with no data, making plotting slightly faster\n",
    "    ipatches = pd.concat([patches,vod_avg[f\"{iname}_mean\"]],join='inner',axis=1)\n",
    "    # plotting with colored patches\n",
    "    pc = PatchCollection(ipatches.Patches,array=ipatches[f\"{iname}_mean\"],edgecolor='face', linewidth=1)\n",
    "    pc.set_clim([-0.1,3])\n",
    "    ax[i].add_collection(pc)\n",
    "    ax[i].set_rlim([0,90])\n",
    "    ax[i].set_theta_zero_location(\"N\")\n",
    "    ax[i].set_theta_direction(-1)\n",
    "    ax[i].set_title(iname)\n",
    "\n",
    "plt.colorbar(pc, ax=ax, location='bottom', shrink=.5, pad=0.05, label='GNSS-VOD')"
   ]
  },
  {
   "cell_type": "code",
   "execution_count": null,
   "id": "9174c17e-9608-4b4b-9fd6-7aa84b89e221",
   "metadata": {},
   "outputs": [],
   "source": [
    "fig, ax = plt.subplots(1,2,figsize=(17,14),subplot_kw=dict(projection='polar'))\n",
    "\n",
    "vod_names = ['VOD1','VOD2']\n",
    "for i, iname in enumerate(vod_names):\n",
    "    # associate the mean values to the patches, join inner will drop patches with no data, making plotting slightly faster\n",
    "    ivod_data = vod_avg[f\"{iname}_mean\"].where(vod_avg[f\"{iname}_count\"]>40)\n",
    "    ipatches = pd.concat([patches,ivod_data],join='inner',axis=1)\n",
    "    # plotting with colored patches\n",
    "    pc = PatchCollection(ipatches.Patches,array=ipatches[f\"{iname}_mean\"],edgecolor='face', linewidth=1)\n",
    "    pc.set_clim([-0.1,3])\n",
    "    ax[i].add_collection(pc)\n",
    "    ax[i].set_rlim([0,90])\n",
    "    ax[i].set_theta_zero_location(\"N\")\n",
    "    ax[i].set_theta_direction(-1)\n",
    "    ax[i].set_title(iname)\n",
    "\n",
    "plt.colorbar(pc, ax=ax, location='bottom', shrink=.5, pad=0.05, label='GNSS-VOD')"
   ]
  },
  {
   "cell_type": "code",
   "execution_count": null,
   "id": "b1951644-b05c-4964-a09a-bd0192d8aa59",
   "metadata": {},
   "outputs": [],
   "source": [
    "# merge statistics with the original VOD measurements\n",
    "vod_anom = vod.join(vod_avg,on='CellID')\n",
    "vod_anom"
   ]
  },
  {
   "cell_type": "code",
   "execution_count": null,
   "id": "b95967b5-53e4-43b6-aeda-9ad947e9ccf9",
   "metadata": {},
   "outputs": [],
   "source": [
    "vod_anom['VOD1_anom'] = vod_anom['VOD1']-vod_anom['VOD1_mean']\n",
    "vod_anom['VOD2_anom'] = vod_anom['VOD2']-vod_anom['VOD2_mean']"
   ]
  },
  {
   "cell_type": "code",
   "execution_count": null,
   "id": "fe44d564-26d8-4ed1-8456-743a06488afd",
   "metadata": {},
   "outputs": [],
   "source": [
    "vod_ts = vod_anom.groupby(pd.Grouper(freq='1h', level='Epoch')).mean()\n",
    "vod_ts"
   ]
  },
  {
   "cell_type": "code",
   "execution_count": null,
   "id": "915c262f-a1ec-4ba0-ae2d-f7cf3827dc6b",
   "metadata": {},
   "outputs": [],
   "source": [
    "vod_ts['VOD1_anom'] = vod_ts['VOD1_anom']+vod_ts['VOD1'].mean()\n",
    "vod_ts['VOD2_anom'] = vod_ts['VOD2_anom']+vod_ts['VOD2'].mean()"
   ]
  },
  {
   "cell_type": "code",
   "execution_count": null,
   "id": "fa9989ab-8536-4c42-8782-59fd6bbb50a9",
   "metadata": {},
   "outputs": [],
   "source": [
    "vod_names = ['VOD1','VOD1_anom']\n",
    "\n",
    "fig, ax = plt.subplots(1,figsize=(10,5))\n",
    "for i, iname in enumerate(vod_names): \n",
    "    # plot each measurement and color by signal to noise ratio\n",
    "    hs = ax.plot(vod_ts.index.get_level_values('Epoch'),vod_ts[iname],label=iname)\n",
    "    \n",
    "myFmt = mdates.DateFormatter('%d-%b')\n",
    "ax.xaxis.set_major_formatter(myFmt)\n",
    "ax.set_ylabel('GNSS-VOD (L1)')\n",
    "ax.legend()\n",
    "plt.title('GNSS-VOD at LUQ-PR, January 2025')\n",
    "#plt.savefig('figures/illustration_vod.png',facecolor='white', transparent=False,bbox_inches='tight')\n"
   ]
  }
 ],
 "metadata": {
  "kernelspec": {
   "display_name": "Python 3 (ipykernel)",
   "language": "python",
   "name": "python3"
  },
  "language_info": {
   "codemirror_mode": {
    "name": "ipython",
    "version": 3
   },
   "file_extension": ".py",
   "mimetype": "text/x-python",
   "name": "python",
   "nbconvert_exporter": "python",
   "pygments_lexer": "ipython3",
   "version": "3.13.2"
  }
 },
 "nbformat": 4,
 "nbformat_minor": 5
}
