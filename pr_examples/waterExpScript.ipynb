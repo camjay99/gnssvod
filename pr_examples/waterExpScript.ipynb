{
 "cells": [
  {
   "cell_type": "markdown",
   "metadata": {},
   "source": [
    "Latest notebook since December 2024\n",
    "- changes were made to preprocessing.py\n",
    "In this notebook:\n",
    "    -data processing\n",
    "    -data pairing\n",
    "    -data vis\n",
    "\n",
    "Script was cleaned on Dec. 18th 2024 by CVR"
   ]
  },
  {
   "cell_type": "markdown",
   "metadata": {},
   "source": [
    "Part Ia. Loading all relevant packages"
   ]
  },
  {
   "cell_type": "code",
   "execution_count": 2,
   "metadata": {},
   "outputs": [
    {
     "name": "stdout",
     "output_type": "stream",
     "text": [
      "The autoreload extension is already loaded. To reload it, use:\n",
      "  %reload_ext autoreload\n",
      "Warning: Basemap package cannot be imported | No module named 'mpl_toolkits.basemap'  error detected - Groundtrack plot disabled!\n"
     ]
    }
   ],
   "source": [
    "#Chunk that sloads necessary packages & sets working environment to where the jupyterlab notebook file is \n",
    "%load_ext autoreload\n",
    "%autoreload 2\n",
    "import gnssvod as gv\n",
    "import numpy as np\n",
    "import pandas as pd\n",
    "import matplotlib.pyplot as plt\n",
    "import matplotlib.dates as mdates\n",
    "import pdb\n",
    "import importlib\n",
    "import zipfile\n",
    "import os\n",
    "import xarray as xr\n",
    "import glob\n",
    "import shutil\n",
    "from gnssvod.hemistats.hemistats import hemibuild\n",
    "#import georinex as gr\n",
    "#import qgrid as interactive table \n",
    "from matplotlib.collections import PatchCollection\n",
    "import matplotlib.dates as mdates\n",
    "import shutil\n",
    "from matplotlib import rcParams\n",
    "from datetime import datetime, timedelta\n"
   ]
  },
  {
   "cell_type": "code",
   "execution_count": 12,
   "metadata": {},
   "outputs": [
    {
     "name": "stdout",
     "output_type": "stream",
     "text": [
      "Could not find any files matching the pattern data_demo/water_exp/nc/*.nc\n",
      "/Volumes/coraldelmar/GNSSDat.2/data_demo/water_exp/MACROCOSM-5_raw_202501112028.25O exists | Reading...\n",
      "Observation file  /Volumes/coraldelmar/GNSSDat.2/data_demo/water_exp/MACROCOSM-5_raw_202501112028.25O  is read in 1.80 seconds.\n",
      "Processing 87430 individual observations\n",
      "Calculating Azimuth and Elevation\n",
      "GFZ0MGXRAP_20250110000_01D_05M_ORB.SP3 exists | Reading...\n"
     ]
    },
    {
     "name": "stderr",
     "output_type": "stream",
     "text": [
      "/Library/Frameworks/Python.framework/Versions/3.12/lib/python3.12/site-packages/gnssvod/io/preprocess.py:200: FutureWarning: 'S' is deprecated and will be removed in a future version, please use 's' instead.\n",
      "  obs.observation = obs.observation[subset].groupby([pd.Grouper(freq=interval, level='Epoch'),pd.Grouper(level='SV')]).mean()\n",
      "/Library/Frameworks/Python.framework/Versions/3.12/lib/python3.12/site-packages/gnssvod/io/preprocess.py:204: FutureWarning: 'S' is deprecated and will be removed in a future version. Please use 's' instead of 'S'.\n",
      "  obs.interval = pd.Timedelta(interval).seconds\n"
     ]
    },
    {
     "name": "stdout",
     "output_type": "stream",
     "text": [
      "GFZ0MGXRAP_20250110000_01D_05M_ORB.SP3 file is read in 0.42 seconds\n",
      "GFZ0MGXRAP_20250110000_01D_30S_CLK.CLK exists | Reading...\n",
      "GFZ0MGXRAP_20250110000_01D_30S_CLK.CLK file is read in 1.83 seconds\n",
      "SP3 interpolation is done in 0.86 seconds\n",
      "Saved 5893 individual observations in MACROCOSM-5_raw_202501112028.nc\n",
      "/Volumes/coraldelmar/GNSSDat.2/data_demo/water_exp/MACROCOSM-5_raw_202501112228.25O exists | Reading...\n",
      "Observation file  /Volumes/coraldelmar/GNSSDat.2/data_demo/water_exp/MACROCOSM-5_raw_202501112228.25O  is read in 0.18 seconds.\n",
      "Processing 11043 individual observations\n"
     ]
    },
    {
     "name": "stderr",
     "output_type": "stream",
     "text": [
      "/Library/Frameworks/Python.framework/Versions/3.12/lib/python3.12/site-packages/gnssvod/io/preprocess.py:200: FutureWarning: 'S' is deprecated and will be removed in a future version, please use 's' instead.\n",
      "  obs.observation = obs.observation[subset].groupby([pd.Grouper(freq=interval, level='Epoch'),pd.Grouper(level='SV')]).mean()\n",
      "/Library/Frameworks/Python.framework/Versions/3.12/lib/python3.12/site-packages/gnssvod/io/preprocess.py:204: FutureWarning: 'S' is deprecated and will be removed in a future version. Please use 's' instead of 'S'.\n",
      "  obs.interval = pd.Timedelta(interval).seconds\n"
     ]
    },
    {
     "name": "stdout",
     "output_type": "stream",
     "text": [
      "Calculating Azimuth and Elevation\n",
      "Saved 790 individual observations in MACROCOSM-5_raw_202501112228.nc\n",
      "/Volumes/coraldelmar/GNSSDat.2/data_demo/water_exp/MACROCOSM-5_raw_202501111928.25O exists | Reading...\n",
      "Observation file  /Volumes/coraldelmar/GNSSDat.2/data_demo/water_exp/MACROCOSM-5_raw_202501111928.25O  is read in 0.61 seconds.\n",
      "Processing 34457 individual observations\n",
      "Calculating Azimuth and Elevation\n",
      "Saved 2453 individual observations in MACROCOSM-5_raw_202501111928.nc\n",
      "/Volumes/coraldelmar/GNSSDat.2/data_demo/water_exp/MACROCOSM-5_raw_202501112128.25O exists | Reading...\n"
     ]
    },
    {
     "name": "stderr",
     "output_type": "stream",
     "text": [
      "/Library/Frameworks/Python.framework/Versions/3.12/lib/python3.12/site-packages/gnssvod/io/preprocess.py:200: FutureWarning: 'S' is deprecated and will be removed in a future version, please use 's' instead.\n",
      "  obs.observation = obs.observation[subset].groupby([pd.Grouper(freq=interval, level='Epoch'),pd.Grouper(level='SV')]).mean()\n",
      "/Library/Frameworks/Python.framework/Versions/3.12/lib/python3.12/site-packages/gnssvod/io/preprocess.py:204: FutureWarning: 'S' is deprecated and will be removed in a future version. Please use 's' instead of 'S'.\n",
      "  obs.interval = pd.Timedelta(interval).seconds\n"
     ]
    },
    {
     "name": "stdout",
     "output_type": "stream",
     "text": [
      "Observation file  /Volumes/coraldelmar/GNSSDat.2/data_demo/water_exp/MACROCOSM-5_raw_202501112128.25O  is read in 1.71 seconds.\n",
      "Processing 100402 individual observations\n",
      "Calculating Azimuth and Elevation\n"
     ]
    },
    {
     "name": "stderr",
     "output_type": "stream",
     "text": [
      "/Library/Frameworks/Python.framework/Versions/3.12/lib/python3.12/site-packages/gnssvod/io/preprocess.py:200: FutureWarning: 'S' is deprecated and will be removed in a future version, please use 's' instead.\n",
      "  obs.observation = obs.observation[subset].groupby([pd.Grouper(freq=interval, level='Epoch'),pd.Grouper(level='SV')]).mean()\n",
      "/Library/Frameworks/Python.framework/Versions/3.12/lib/python3.12/site-packages/gnssvod/io/preprocess.py:204: FutureWarning: 'S' is deprecated and will be removed in a future version. Please use 's' instead of 'S'.\n",
      "  obs.interval = pd.Timedelta(interval).seconds\n"
     ]
    },
    {
     "name": "stdout",
     "output_type": "stream",
     "text": [
      "Saved 6794 individual observations in MACROCOSM-5_raw_202501112128.nc\n",
      "/Volumes/coraldelmar/GNSSDat.2/data_demo/water_exp/MACROCOSM-5_raw_202501111229.25O exists | Reading...\n",
      "Processed 2282861 out of 2707381 lines (84.3%)\n",
      "Observation file  /Volumes/coraldelmar/GNSSDat.2/data_demo/water_exp/MACROCOSM-5_raw_202501111229.25O  is read in 46.30 seconds.\n",
      "Processing 2604412 individual observations\n"
     ]
    },
    {
     "name": "stderr",
     "output_type": "stream",
     "text": [
      "/Library/Frameworks/Python.framework/Versions/3.12/lib/python3.12/site-packages/gnssvod/io/preprocess.py:200: FutureWarning: 'S' is deprecated and will be removed in a future version, please use 's' instead.\n",
      "  obs.observation = obs.observation[subset].groupby([pd.Grouper(freq=interval, level='Epoch'),pd.Grouper(level='SV')]).mean()\n",
      "/Library/Frameworks/Python.framework/Versions/3.12/lib/python3.12/site-packages/gnssvod/io/preprocess.py:204: FutureWarning: 'S' is deprecated and will be removed in a future version. Please use 's' instead of 'S'.\n",
      "  obs.interval = pd.Timedelta(interval).seconds\n"
     ]
    },
    {
     "name": "stdout",
     "output_type": "stream",
     "text": [
      "Calculating Azimuth and Elevation\n",
      "GFZ0MGXRAP_20250110000_01D_05M_ORB.SP3 exists | Reading...\n",
      "GFZ0MGXRAP_20250110000_01D_05M_ORB.SP3 file is read in 0.67 seconds\n",
      "GFZ0MGXRAP_20250110000_01D_30S_CLK.CLK exists | Reading...\n",
      "GFZ0MGXRAP_20250110000_01D_30S_CLK.CLK file is read in 1.75 seconds\n",
      "SP3 interpolation is done in 0.95 seconds\n",
      "Saved 45028 individual observations in MACROCOSM-5_raw_202501111229.nc\n"
     ]
    }
   ],
   "source": [
    "#batch processing for one station\n",
    "pattern= {'MACROCOSM-5':'/Volumes/coraldelmar/GNSSDat.2/data_demo/water_exp/MACROCOSM-5*.25O'}\n",
    "outputdir={'MACROCOSM-5':'data_demo/water_exp/nc/', }\n",
    "keepvars=['S1C','S1X','S2C','S2X']\n",
    "gv.preprocess(pattern,interval='15S',keepvars=keepvars,outputdir=outputdir)"
   ]
  },
  {
   "cell_type": "code",
   "execution_count": 3,
   "metadata": {},
   "outputs": [],
   "source": [
    "pattern={'MACROCOSM-5':'/Volumes/coraldelmar/GNSSDat.2/extracted/MACROCOSM-5/MACROCOSM-5/nc/*.nc'}"
   ]
  },
  {
   "cell_type": "code",
   "execution_count": 4,
   "metadata": {},
   "outputs": [
    {
     "name": "stderr",
     "output_type": "stream",
     "text": [
      "/var/folders/fh/962dt8rs1zd8vch980_pv5yc0000gn/T/ipykernel_8310/3115796096.py:2: FutureWarning: 'H' is deprecated and will be removed in a future version, please use 'h' instead.\n",
      "  timeintervals=pd.interval_range(start=startday, periods=2, freq='H', closed='left')\n"
     ]
    },
    {
     "data": {
      "text/plain": [
       "IntervalIndex([[2025-01-10 00:00:00, 2025-01-10 01:00:00), [2025-01-10 01:00:00, 2025-01-10 02:00:00)], dtype='interval[datetime64[ns], left]')"
      ]
     },
     "execution_count": 4,
     "metadata": {},
     "output_type": "execute_result"
    }
   ],
   "source": [
    "startday = pd.to_datetime('10-01-2025',format='%d-%m-%Y')\n",
    "timeintervals=pd.interval_range(start=startday, periods=2, freq='H', closed='left')\n",
    "timeintervals"
   ]
  },
  {
   "cell_type": "code",
   "execution_count": 5,
   "metadata": {},
   "outputs": [
    {
     "name": "stdout",
     "output_type": "stream",
     "text": [
      "Processing MACROCOSM-5\n",
      "Listing the files matching with the interval\n",
      "Found 0 files for MACROCOSM-5\n",
      "Reading\n"
     ]
    },
    {
     "ename": "ValueError",
     "evalue": "No objects to concatenate",
     "output_type": "error",
     "traceback": [
      "\u001b[0;31m---------------------------------------------------------------------------\u001b[0m",
      "\u001b[0;31mValueError\u001b[0m                                Traceback (most recent call last)",
      "Cell \u001b[0;32mIn[5], line 5\u001b[0m\n\u001b[1;32m      2\u001b[0m keepvars \u001b[38;5;241m=\u001b[39m [\u001b[38;5;124m'\u001b[39m\u001b[38;5;124mS*\u001b[39m\u001b[38;5;124m'\u001b[39m, \u001b[38;5;124m'\u001b[39m\u001b[38;5;124mAzimuth\u001b[39m\u001b[38;5;124m'\u001b[39m, \u001b[38;5;124m'\u001b[39m\u001b[38;5;124mElevation\u001b[39m\u001b[38;5;124m'\u001b[39m]  \n\u001b[1;32m      4\u001b[0m \u001b[38;5;66;03m# Run the function without pairing  \u001b[39;00m\n\u001b[0;32m----> 5\u001b[0m out \u001b[38;5;241m=\u001b[39m \u001b[43mgv\u001b[49m\u001b[38;5;241;43m.\u001b[39;49m\u001b[43mgather_stations\u001b[49m\u001b[43m(\u001b[49m\u001b[43mpattern\u001b[49m\u001b[43m,\u001b[49m\u001b[43m \u001b[49m\u001b[38;5;28;43;01mNone\u001b[39;49;00m\u001b[43m,\u001b[49m\u001b[43m \u001b[49m\u001b[43mtimeintervals\u001b[49m\u001b[43m,\u001b[49m\u001b[43m \u001b[49m\u001b[43mkeepvars\u001b[49m\u001b[38;5;241;43m=\u001b[39;49m\u001b[43mkeepvars\u001b[49m\u001b[43m,\u001b[49m\u001b[43m \u001b[49m\u001b[43moutputdir\u001b[49m\u001b[38;5;241;43m=\u001b[39;49m\u001b[43moutputdir\u001b[49m\u001b[43m)\u001b[49m\n",
      "File \u001b[0;32m/Library/Frameworks/Python.framework/Versions/3.12/lib/python3.12/site-packages/gnssvod/io/preprocess.py:400\u001b[0m, in \u001b[0;36mgather_stations\u001b[0;34m(filepattern, pairings, timeintervals, keepvars, outputdir, compress)\u001b[0m\n\u001b[1;32m    398\u001b[0m idata \u001b[38;5;241m=\u001b[39m [i \u001b[38;5;28;01mfor\u001b[39;00m (i, v) \u001b[38;5;129;01min\u001b[39;00m \u001b[38;5;28mzip\u001b[39m(idata, isin) \u001b[38;5;28;01mif\u001b[39;00m v] \u001b[38;5;66;03m#list idata of all dfs, puts based on isin\u001b[39;00m\n\u001b[1;32m    399\u001b[0m \u001b[38;5;66;03m# concatenate, drop duplicates and sort the dataframes\u001b[39;00m\n\u001b[0;32m--> 400\u001b[0m idata \u001b[38;5;241m=\u001b[39m \u001b[43mpd\u001b[49m\u001b[38;5;241;43m.\u001b[39;49m\u001b[43mconcat\u001b[49m\u001b[43m(\u001b[49m\u001b[43midata\u001b[49m\u001b[43m)\u001b[49m\n\u001b[1;32m    401\u001b[0m idata \u001b[38;5;241m=\u001b[39m idata[\u001b[38;5;241m~\u001b[39midata\u001b[38;5;241m.\u001b[39mindex\u001b[38;5;241m.\u001b[39mduplicated()]\u001b[38;5;241m.\u001b[39msort_index(level\u001b[38;5;241m=\u001b[39m[\u001b[38;5;124m'\u001b[39m\u001b[38;5;124mEpoch\u001b[39m\u001b[38;5;124m'\u001b[39m,\u001b[38;5;124m'\u001b[39m\u001b[38;5;124mSV\u001b[39m\u001b[38;5;124m'\u001b[39m])\n\u001b[1;32m    402\u001b[0m \u001b[38;5;66;03m# add the station data in the iout list\u001b[39;00m\n",
      "File \u001b[0;32m/Library/Frameworks/Python.framework/Versions/3.12/lib/python3.12/site-packages/pandas/core/reshape/concat.py:382\u001b[0m, in \u001b[0;36mconcat\u001b[0;34m(objs, axis, join, ignore_index, keys, levels, names, verify_integrity, sort, copy)\u001b[0m\n\u001b[1;32m    379\u001b[0m \u001b[38;5;28;01melif\u001b[39;00m copy \u001b[38;5;129;01mand\u001b[39;00m using_copy_on_write():\n\u001b[1;32m    380\u001b[0m     copy \u001b[38;5;241m=\u001b[39m \u001b[38;5;28;01mFalse\u001b[39;00m\n\u001b[0;32m--> 382\u001b[0m op \u001b[38;5;241m=\u001b[39m \u001b[43m_Concatenator\u001b[49m\u001b[43m(\u001b[49m\n\u001b[1;32m    383\u001b[0m \u001b[43m    \u001b[49m\u001b[43mobjs\u001b[49m\u001b[43m,\u001b[49m\n\u001b[1;32m    384\u001b[0m \u001b[43m    \u001b[49m\u001b[43maxis\u001b[49m\u001b[38;5;241;43m=\u001b[39;49m\u001b[43maxis\u001b[49m\u001b[43m,\u001b[49m\n\u001b[1;32m    385\u001b[0m \u001b[43m    \u001b[49m\u001b[43mignore_index\u001b[49m\u001b[38;5;241;43m=\u001b[39;49m\u001b[43mignore_index\u001b[49m\u001b[43m,\u001b[49m\n\u001b[1;32m    386\u001b[0m \u001b[43m    \u001b[49m\u001b[43mjoin\u001b[49m\u001b[38;5;241;43m=\u001b[39;49m\u001b[43mjoin\u001b[49m\u001b[43m,\u001b[49m\n\u001b[1;32m    387\u001b[0m \u001b[43m    \u001b[49m\u001b[43mkeys\u001b[49m\u001b[38;5;241;43m=\u001b[39;49m\u001b[43mkeys\u001b[49m\u001b[43m,\u001b[49m\n\u001b[1;32m    388\u001b[0m \u001b[43m    \u001b[49m\u001b[43mlevels\u001b[49m\u001b[38;5;241;43m=\u001b[39;49m\u001b[43mlevels\u001b[49m\u001b[43m,\u001b[49m\n\u001b[1;32m    389\u001b[0m \u001b[43m    \u001b[49m\u001b[43mnames\u001b[49m\u001b[38;5;241;43m=\u001b[39;49m\u001b[43mnames\u001b[49m\u001b[43m,\u001b[49m\n\u001b[1;32m    390\u001b[0m \u001b[43m    \u001b[49m\u001b[43mverify_integrity\u001b[49m\u001b[38;5;241;43m=\u001b[39;49m\u001b[43mverify_integrity\u001b[49m\u001b[43m,\u001b[49m\n\u001b[1;32m    391\u001b[0m \u001b[43m    \u001b[49m\u001b[43mcopy\u001b[49m\u001b[38;5;241;43m=\u001b[39;49m\u001b[43mcopy\u001b[49m\u001b[43m,\u001b[49m\n\u001b[1;32m    392\u001b[0m \u001b[43m    \u001b[49m\u001b[43msort\u001b[49m\u001b[38;5;241;43m=\u001b[39;49m\u001b[43msort\u001b[49m\u001b[43m,\u001b[49m\n\u001b[1;32m    393\u001b[0m \u001b[43m\u001b[49m\u001b[43m)\u001b[49m\n\u001b[1;32m    395\u001b[0m \u001b[38;5;28;01mreturn\u001b[39;00m op\u001b[38;5;241m.\u001b[39mget_result()\n",
      "File \u001b[0;32m/Library/Frameworks/Python.framework/Versions/3.12/lib/python3.12/site-packages/pandas/core/reshape/concat.py:445\u001b[0m, in \u001b[0;36m_Concatenator.__init__\u001b[0;34m(self, objs, axis, join, keys, levels, names, ignore_index, verify_integrity, copy, sort)\u001b[0m\n\u001b[1;32m    442\u001b[0m \u001b[38;5;28mself\u001b[39m\u001b[38;5;241m.\u001b[39mverify_integrity \u001b[38;5;241m=\u001b[39m verify_integrity\n\u001b[1;32m    443\u001b[0m \u001b[38;5;28mself\u001b[39m\u001b[38;5;241m.\u001b[39mcopy \u001b[38;5;241m=\u001b[39m copy\n\u001b[0;32m--> 445\u001b[0m objs, keys \u001b[38;5;241m=\u001b[39m \u001b[38;5;28;43mself\u001b[39;49m\u001b[38;5;241;43m.\u001b[39;49m\u001b[43m_clean_keys_and_objs\u001b[49m\u001b[43m(\u001b[49m\u001b[43mobjs\u001b[49m\u001b[43m,\u001b[49m\u001b[43m \u001b[49m\u001b[43mkeys\u001b[49m\u001b[43m)\u001b[49m\n\u001b[1;32m    447\u001b[0m \u001b[38;5;66;03m# figure out what our result ndim is going to be\u001b[39;00m\n\u001b[1;32m    448\u001b[0m ndims \u001b[38;5;241m=\u001b[39m \u001b[38;5;28mself\u001b[39m\u001b[38;5;241m.\u001b[39m_get_ndims(objs)\n",
      "File \u001b[0;32m/Library/Frameworks/Python.framework/Versions/3.12/lib/python3.12/site-packages/pandas/core/reshape/concat.py:507\u001b[0m, in \u001b[0;36m_Concatenator._clean_keys_and_objs\u001b[0;34m(self, objs, keys)\u001b[0m\n\u001b[1;32m    504\u001b[0m     objs_list \u001b[38;5;241m=\u001b[39m \u001b[38;5;28mlist\u001b[39m(objs)\n\u001b[1;32m    506\u001b[0m \u001b[38;5;28;01mif\u001b[39;00m \u001b[38;5;28mlen\u001b[39m(objs_list) \u001b[38;5;241m==\u001b[39m \u001b[38;5;241m0\u001b[39m:\n\u001b[0;32m--> 507\u001b[0m     \u001b[38;5;28;01mraise\u001b[39;00m \u001b[38;5;167;01mValueError\u001b[39;00m(\u001b[38;5;124m\"\u001b[39m\u001b[38;5;124mNo objects to concatenate\u001b[39m\u001b[38;5;124m\"\u001b[39m)\n\u001b[1;32m    509\u001b[0m \u001b[38;5;28;01mif\u001b[39;00m keys \u001b[38;5;129;01mis\u001b[39;00m \u001b[38;5;28;01mNone\u001b[39;00m:\n\u001b[1;32m    510\u001b[0m     objs_list \u001b[38;5;241m=\u001b[39m \u001b[38;5;28mlist\u001b[39m(com\u001b[38;5;241m.\u001b[39mnot_none(\u001b[38;5;241m*\u001b[39mobjs_list))\n",
      "\u001b[0;31mValueError\u001b[0m: No objects to concatenate"
     ]
    }
   ],
   "source": [
    "#attempt to concatenate without pairing, realized it wasnt necessary afterwards\n",
    "\n",
    "outputdir = '/Volumes/coraldelmar/GNSSDat.2/extracted/MACROCOSM-5/MACROCOSM-5/nc/*.nc'  # Adjust directory as needed  \n",
    "keepvars = ['S*', 'Azimuth', 'Elevation']  \n",
    "\n",
    "# Run the function without pairing  \n",
    "out = gv.gather_stations(pattern, None, timeintervals, keepvars=keepvars, outputdir=outputdir)"
   ]
  },
  {
   "cell_type": "code",
   "execution_count": 8,
   "metadata": {},
   "outputs": [
    {
     "name": "stdout",
     "output_type": "stream",
     "text": [
      "Processing file: /Volumes/coraldelmar/GNSSDat.2/extracted/MACROCOSM-5/MACROCOSM-5/nc/MACROCOSM-5_raw_202501111229.nc\n",
      "                         S1C   S1X  S2C  S2X  Azimuth  Elevation\n",
      "Epoch               SV                                          \n",
      "2025-01-11 12:30:15 C21  NaN   NaN  NaN  NaN    -25.2       46.1\n",
      "                    C22  NaN   NaN  NaN  NaN     95.5       69.7\n",
      "                    C26  NaN   NaN  NaN  NaN   -115.3       41.0\n",
      "                    E21  NaN  45.9  NaN  NaN   -169.7       51.9\n",
      "                    E27  NaN  44.0  NaN  NaN     67.1       62.6\n",
      "Processing file: /Volumes/coraldelmar/GNSSDat.2/extracted/MACROCOSM-5/MACROCOSM-5/nc/MACROCOSM-5_raw_202501111928.nc\n",
      "                         S1C  S1X  S2C  S2X  Azimuth  Elevation\n",
      "Epoch               SV                                         \n",
      "2025-01-11 19:28:45 C11  NaN  NaN  NaN  NaN   -137.8       63.4\n",
      "                    C12  NaN  NaN  NaN  NaN     31.6       57.6\n",
      "                    C24  NaN  NaN  NaN  NaN     72.0       61.0\n",
      "                    C25  NaN  NaN  NaN  NaN    -24.9       41.2\n",
      "                    C26  NaN  NaN  NaN  NaN    117.6       20.7\n",
      "Processing file: /Volumes/coraldelmar/GNSSDat.2/extracted/MACROCOSM-5/MACROCOSM-5/nc/MACROCOSM-5_raw_202501112228.nc\n",
      "                         S1C  S1X  S2C  S2X  Azimuth  Elevation\n",
      "Epoch               SV                                         \n",
      "2025-01-11 22:28:45 C11  NaN  NaN  NaN  NaN     19.5       38.0\n",
      "                    C23  NaN  NaN  NaN  NaN    -61.2       56.1\n",
      "                    C25  NaN  NaN  NaN  NaN    178.6       58.0\n",
      "                    C28  NaN  NaN  NaN  NaN    -88.6       26.0\n",
      "                    C34  NaN  NaN  NaN  NaN     41.5       22.3\n",
      "Processing file: /Volumes/coraldelmar/GNSSDat.2/extracted/MACROCOSM-5/MACROCOSM-5/nc/MACROCOSM-5_raw_202501112128.nc\n",
      "                         S1C  S1X  S2C  S2X  Azimuth  Elevation\n",
      "Epoch               SV                                         \n",
      "2025-01-11 21:28:45 C11  NaN  NaN  NaN  NaN     -4.5       55.4\n",
      "                    C12  NaN  NaN  NaN  NaN     38.9       13.9\n",
      "                    C23  NaN  NaN  NaN  NaN    -39.0       36.4\n",
      "                    C24  NaN  NaN  NaN  NaN    143.6       30.9\n",
      "                    C25  NaN  NaN  NaN  NaN   -158.9       86.5\n",
      "Processing file: /Volumes/coraldelmar/GNSSDat.2/extracted/MACROCOSM-5/MACROCOSM-5/nc/MACROCOSM-5_raw_202501112028.nc\n",
      "                         S1C  S1X  S2C  S2X  Azimuth  Elevation\n",
      "Epoch               SV                                         \n",
      "2025-01-11 20:28:45 C34  NaN  NaN  NaN  NaN      8.2       59.9\n",
      "2025-01-11 20:29:00 C34  NaN  NaN  NaN  NaN      8.3       59.8\n",
      "2025-01-11 20:29:15 C34  NaN  NaN  NaN  NaN      8.3       59.7\n",
      "2025-01-11 20:29:30 C34  NaN  NaN  NaN  NaN      8.4       59.6\n",
      "2025-01-11 20:29:45 C34  NaN  NaN  NaN  NaN      8.5       59.5\n"
     ]
    }
   ],
   "source": [
    "# Define path to NetCDF files\n",
    "nc_files = glob.glob('/Volumes/coraldelmar/GNSSDat.2/extracted/MACROCOSM-5/MACROCOSM-5/nc/*.nc')  # Get all .nc files\n",
    "\n",
    "# Process each file separately\n",
    "for file in nc_files:\n",
    "    print(f\"Processing file: {file}\")\n",
    "    ds = xr.open_dataset(file)  \n",
    "    df = ds.to_dataframe().dropna(how='all')  \n",
    "    df = df.reorder_levels([\"Epoch\", \"SV\"]).sort_index()\n",
    "    print(df.head())  \n",
    "\n"
   ]
  },
  {
   "cell_type": "code",
   "execution_count": 15,
   "metadata": {},
   "outputs": [
    {
     "data": {
      "image/png": "[encoded data removed]",
      "text/plain": [
       "<Figure size 1000x500 with 1 Axes>"
      ]
     },
     "metadata": {},
     "output_type": "display_data"
    }
   ],
   "source": [
    "import matplotlib.pyplot as plt\n",
    "import matplotlib.dates as mdates\n",
    "\n",
    "mySV = 'C11'  #\n",
    "\n",
    "station_names = ['MACROCOSM-5'] \n",
    "\n",
    "fig, ax = plt.subplots(1, figsize=(10, 5))\n",
    "\n",
    "for i, iname in enumerate(station_names):\n",
    "    subdf = df.xs(mySV, level='SV') \n",
    "    hs = ax.plot(subdf.index.get_level_values('Epoch'), subdf.S1C, label=iname)\n",
    "\n",
    "myFmt = mdates.DateFormatter('%H:%M')\n",
    "ax.xaxis.set_major_formatter(myFmt)\n",
    "ax.set_ylabel('SNR (L1)')\n",
    "ax.legend()\n",
    "plt.title(f'Satellite: {mySV}')\n",
    "\n",
    "plt.show()\n",
    "\n"
   ]
  }
 ],
 "metadata": {
  "kernelspec": {
   "display_name": "Python 3",
   "language": "python",
   "name": "python3"
  },
  "language_info": {
   "codemirror_mode": {
    "name": "ipython",
    "version": 3
   },
   "file_extension": ".py",
   "mimetype": "text/x-python",
   "name": "python",
   "nbconvert_exporter": "python",
   "pygments_lexer": "ipython3",
   "version": "3.12.1"
  }
 },
 "nbformat": 4,
 "nbformat_minor": 2
}
