{
 "cells": [
  {
   "cell_type": "code",
   "execution_count": 1,
   "metadata": {},
   "outputs": [
    {
     "name": "stdout",
     "output_type": "stream",
     "text": [
      "Warning: Basemap package cannot be imported | No module named 'mpl_toolkits.basemap'  error detected - Groundtrack plot disabled!\n"
     ]
    }
   ],
   "source": [
    "import gnssvod as gv"
   ]
  },
  {
   "cell_type": "code",
   "execution_count": 8,
   "metadata": {},
   "outputs": [
    {
     "name": "stdout",
     "output_type": "stream",
     "text": [
      "data_pr/MACROCOSM-5_raw_202401101416.24O exists | Reading...\n",
      "Observation file  data_pr/MACROCOSM-5_raw_202401101416.24O  is read in 3.29 seconds.\n",
      "Processing 173896 individual observations\n",
      "Calculating Azimuth and Elevation\n",
      "This file does not exist: GFZ0MGXRAP_20240100000_01D_05M_ORB.SP3\n",
      "Downloading: GFZ0MGXRAP_20240100000_01D_05M_ORB.SP3.gz"
     ]
    },
    {
     "name": "stderr",
     "output_type": "stream",
     "text": [
      "GFZ0MGXRAP_20240100000_01D_05M_ORB.SP3.gz: 1.01MB [00:01, 620kB/s]                                                                                                     \n"
     ]
    },
    {
     "name": "stdout",
     "output_type": "stream",
     "text": [
      " | Download completed for GFZ0MGXRAP_20240100000_01D_05M_ORB.SP3.gz\n",
      " | Requested file GFZ0MGXRAP_20240100000_01D_05M_ORB.SP3.gz cannot be not found!\n"
     ]
    },
    {
     "ename": "FileNotFoundError",
     "evalue": "[Errno 2] No such file or directory: 'GFZ0MGXRAP_20240100000_01D_05M_ORB.SP3.gz'",
     "output_type": "error",
     "traceback": [
      "\u001b[0;31m---------------------------------------------------------------------------\u001b[0m",
      "\u001b[0;31mFileNotFoundError\u001b[0m                         Traceback (most recent call last)",
      "Cell \u001b[0;32mIn[8], line 3\u001b[0m\n\u001b[1;32m      1\u001b[0m pattern \u001b[38;5;241m=\u001b[39m {\n\u001b[1;32m      2\u001b[0m     \u001b[38;5;124m'\u001b[39m\u001b[38;5;124mMACROCOSM-5\u001b[39m\u001b[38;5;124m'\u001b[39m: \u001b[38;5;124m'\u001b[39m\u001b[38;5;124mdata_pr/MACROCOSM-5_raw_202401101416.24O\u001b[39m\u001b[38;5;124m'\u001b[39m,}\n\u001b[0;32m----> 3\u001b[0m result\u001b[38;5;241m=\u001b[39m\u001b[43mgv\u001b[49m\u001b[38;5;241;43m.\u001b[39;49m\u001b[43mpreprocess\u001b[49m\u001b[43m(\u001b[49m\u001b[43mpattern\u001b[49m\u001b[43m,\u001b[49m\u001b[43moutputresult\u001b[49m\u001b[38;5;241;43m=\u001b[39;49m\u001b[38;5;28;43;01mTrue\u001b[39;49;00m\u001b[43m)\u001b[49m\n",
      "File \u001b[0;32m/Library/Frameworks/Python.framework/Versions/3.12/lib/python3.12/site-packages/gnssvod/io/preprocess.py:128\u001b[0m, in \u001b[0;36mpreprocess\u001b[0;34m(filepattern, orbit, interval, keepvars, outputdir, overwrite, compress, outputresult)\u001b[0m\n\u001b[1;32m    124\u001b[0m \u001b[38;5;66;03m# note: orbit cannot be parallelized easily because it \u001b[39;00m\n\u001b[1;32m    125\u001b[0m \u001b[38;5;66;03m# downloads and unzips third-party files in the current directory\u001b[39;00m\n\u001b[1;32m    126\u001b[0m \u001b[38;5;28;01mif\u001b[39;00m \u001b[38;5;129;01mnot\u001b[39;00m \u001b[38;5;124m'\u001b[39m\u001b[38;5;124morbit_data\u001b[39m\u001b[38;5;124m'\u001b[39m \u001b[38;5;129;01min\u001b[39;00m \u001b[38;5;28mlocals\u001b[39m():\n\u001b[1;32m    127\u001b[0m     \u001b[38;5;66;03m# if there is no previous orbit data, the orbit data is returned as well\u001b[39;00m\n\u001b[0;32m--> 128\u001b[0m     x, orbit_data \u001b[38;5;241m=\u001b[39m \u001b[43madd_azi_ele\u001b[49m\u001b[43m(\u001b[49m\u001b[43mx\u001b[49m\u001b[43m)\u001b[49m\n\u001b[1;32m    129\u001b[0m \u001b[38;5;28;01melse\u001b[39;00m:\n\u001b[1;32m    130\u001b[0m     \u001b[38;5;66;03m# on following iterations the orbit data is tentatively recycled to reduce computational time\u001b[39;00m\n\u001b[1;32m    131\u001b[0m     x, orbit_data \u001b[38;5;241m=\u001b[39m add_azi_ele(x, orbit_data)\n",
      "File \u001b[0;32m/Library/Frameworks/Python.framework/Versions/3.12/lib/python3.12/site-packages/gnssvod/io/preprocess.py:221\u001b[0m, in \u001b[0;36madd_azi_ele\u001b[0;34m(obs, orbit_data)\u001b[0m\n\u001b[1;32m    217\u001b[0m     do \u001b[38;5;241m=\u001b[39m \u001b[38;5;28;01mTrue\u001b[39;00m\n\u001b[1;32m    219\u001b[0m \u001b[38;5;28;01mif\u001b[39;00m do:\n\u001b[1;32m    220\u001b[0m     \u001b[38;5;66;03m# read (=usually download) orbit data\u001b[39;00m\n\u001b[0;32m--> 221\u001b[0m     orbit \u001b[38;5;241m=\u001b[39m \u001b[43msp3_interp_fast\u001b[49m\u001b[43m(\u001b[49m\u001b[43mstart_time\u001b[49m\u001b[43m,\u001b[49m\u001b[43m \u001b[49m\u001b[43mend_time\u001b[49m\u001b[43m,\u001b[49m\u001b[43m \u001b[49m\u001b[43minterval\u001b[49m\u001b[38;5;241;43m=\u001b[39;49m\u001b[43mobs\u001b[49m\u001b[38;5;241;43m.\u001b[39;49m\u001b[43minterval\u001b[49m\u001b[43m)\u001b[49m\n\u001b[1;32m    222\u001b[0m     \u001b[38;5;66;03m# prepare an orbit object as well\u001b[39;00m\n\u001b[1;32m    223\u001b[0m     orbit_data \u001b[38;5;241m=\u001b[39m orbit\n",
      "File \u001b[0;32m/Library/Frameworks/Python.framework/Versions/3.12/lib/python3.12/site-packages/gnssvod/position/interpolation.py:29\u001b[0m, in \u001b[0;36msp3_interp_fast\u001b[0;34m(start_time, end_time, interval, poly_degree, sp3_product, clock_product)\u001b[0m\n\u001b[1;32m     26\u001b[0m clockFileNames \u001b[38;5;241m=\u001b[39m [clockFileName(x\u001b[38;5;241m.\u001b[39mdate(),interval,clock_product) \u001b[38;5;28;01mfor\u001b[39;00m x \u001b[38;5;129;01min\u001b[39;00m epochs]\n\u001b[1;32m     27\u001b[0m \u001b[38;5;66;03m#--------------------------------------------------------------------------\u001b[39;00m\n\u001b[1;32m     28\u001b[0m \u001b[38;5;66;03m# reading all those files, downloading them if necessary\u001b[39;00m\n\u001b[0;32m---> 29\u001b[0m sp3 \u001b[38;5;241m=\u001b[39m [\u001b[43mreadFile\u001b[49m\u001b[38;5;241;43m.\u001b[39;49m\u001b[43mread_sp3File\u001b[49m\u001b[43m(\u001b[49m\u001b[43mx\u001b[49m\u001b[43m)\u001b[49m \u001b[38;5;28;01mfor\u001b[39;00m x \u001b[38;5;129;01min\u001b[39;00m sp3FileNames]\n\u001b[1;32m     30\u001b[0m clock \u001b[38;5;241m=\u001b[39m [readFile\u001b[38;5;241m.\u001b[39mread_clockFile(x) \u001b[38;5;28;01mfor\u001b[39;00m x \u001b[38;5;129;01min\u001b[39;00m clockFileNames]\n\u001b[1;32m     31\u001b[0m \u001b[38;5;66;03m#--------------------------------------------------------------------------\u001b[39;00m\n\u001b[1;32m     32\u001b[0m \u001b[38;5;66;03m# concatenate data from current day and some buffer before and after\u001b[39;00m\n",
      "File \u001b[0;32m/Library/Frameworks/Python.framework/Versions/3.12/lib/python3.12/site-packages/gnssvod/io/readFile.py:694\u001b[0m, in \u001b[0;36mread_sp3File\u001b[0;34m(sp3file)\u001b[0m\n\u001b[1;32m    692\u001b[0m \u001b[38;5;28;01mdef\u001b[39;00m \u001b[38;5;21mread_sp3File\u001b[39m(sp3file):\n\u001b[1;32m    693\u001b[0m     start \u001b[38;5;241m=\u001b[39m time\u001b[38;5;241m.\u001b[39mtime()\n\u001b[0;32m--> 694\u001b[0m     \u001b[43misexist\u001b[49m\u001b[43m(\u001b[49m\u001b[43msp3file\u001b[49m\u001b[43m)\u001b[49m\n\u001b[1;32m    695\u001b[0m     f \u001b[38;5;241m=\u001b[39m \u001b[38;5;28mopen\u001b[39m(sp3file)\n\u001b[1;32m    696\u001b[0m     sp3 \u001b[38;5;241m=\u001b[39m f\u001b[38;5;241m.\u001b[39mreadlines()\n",
      "File \u001b[0;32m/Library/Frameworks/Python.framework/Versions/3.12/lib/python3.12/site-packages/gnssvod/funcs/checkif.py:102\u001b[0m, in \u001b[0;36misexist\u001b[0;34m(fileName)\u001b[0m\n\u001b[1;32m    100\u001b[0m \u001b[38;5;28;01melif\u001b[39;00m extension \u001b[38;5;241m==\u001b[39m \u001b[38;5;124m\"\u001b[39m\u001b[38;5;124msp3\u001b[39m\u001b[38;5;124m\"\u001b[39m:\n\u001b[1;32m    101\u001b[0m     downloadName \u001b[38;5;241m=\u001b[39m download\u001b[38;5;241m.\u001b[39mget_sp3(fileName)\n\u001b[0;32m--> 102\u001b[0m     \u001b[43mdecompress_on_disk\u001b[49m\u001b[43m(\u001b[49m\u001b[43mdownloadName\u001b[49m\u001b[43m,\u001b[49m\u001b[43m \u001b[49m\u001b[43mdelete\u001b[49m\u001b[38;5;241;43m=\u001b[39;49m\u001b[38;5;28;43;01mTrue\u001b[39;49;00m\u001b[43m)\u001b[49m\n\u001b[1;32m    103\u001b[0m \u001b[38;5;28;01melif\u001b[39;00m extension[\u001b[38;5;241m-\u001b[39m\u001b[38;5;241m1\u001b[39m]\u001b[38;5;241m.\u001b[39mlower() \u001b[38;5;241m==\u001b[39m \u001b[38;5;124m\"\u001b[39m\u001b[38;5;124mi\u001b[39m\u001b[38;5;124m\"\u001b[39m:\n\u001b[1;32m    104\u001b[0m     download\u001b[38;5;241m.\u001b[39mget_ionosphere(fileName)\n",
      "File \u001b[0;32m/Library/Frameworks/Python.framework/Versions/3.12/lib/python3.12/site-packages/hatanaka/general_compression.py:108\u001b[0m, in \u001b[0;36mdecompress_on_disk\u001b[0;34m(path, delete, skip_strange_epochs, strict)\u001b[0m\n\u001b[1;32m    106\u001b[0m path \u001b[38;5;241m=\u001b[39m Path(path)\n\u001b[1;32m    107\u001b[0m \u001b[38;5;28;01mwith\u001b[39;00m _record_warnings() \u001b[38;5;28;01mas\u001b[39;00m warning_list:\n\u001b[0;32m--> 108\u001b[0m     is_obs, txt \u001b[38;5;241m=\u001b[39m _decompress(\u001b[43mpath\u001b[49m\u001b[38;5;241;43m.\u001b[39;49m\u001b[43mread_bytes\u001b[49m\u001b[43m(\u001b[49m\u001b[43m)\u001b[49m, skip_strange_epochs, strict)\n\u001b[1;32m    109\u001b[0m out_path \u001b[38;5;241m=\u001b[39m get_decompressed_path(path)\n\u001b[1;32m    110\u001b[0m \u001b[38;5;28;01mif\u001b[39;00m out_path \u001b[38;5;241m==\u001b[39m path:\n\u001b[1;32m    111\u001b[0m     \u001b[38;5;66;03m# file does not need decompressing\u001b[39;00m\n",
      "File \u001b[0;32m/Library/Frameworks/Python.framework/Versions/3.12/lib/python3.12/pathlib.py:1019\u001b[0m, in \u001b[0;36mPath.read_bytes\u001b[0;34m(self)\u001b[0m\n\u001b[1;32m   1015\u001b[0m \u001b[38;5;28;01mdef\u001b[39;00m \u001b[38;5;21mread_bytes\u001b[39m(\u001b[38;5;28mself\u001b[39m):\n\u001b[1;32m   1016\u001b[0m \u001b[38;5;250m    \u001b[39m\u001b[38;5;124;03m\"\"\"\u001b[39;00m\n\u001b[1;32m   1017\u001b[0m \u001b[38;5;124;03m    Open the file in bytes mode, read it, and close the file.\u001b[39;00m\n\u001b[1;32m   1018\u001b[0m \u001b[38;5;124;03m    \"\"\"\u001b[39;00m\n\u001b[0;32m-> 1019\u001b[0m     \u001b[38;5;28;01mwith\u001b[39;00m \u001b[38;5;28;43mself\u001b[39;49m\u001b[38;5;241;43m.\u001b[39;49m\u001b[43mopen\u001b[49m\u001b[43m(\u001b[49m\u001b[43mmode\u001b[49m\u001b[38;5;241;43m=\u001b[39;49m\u001b[38;5;124;43m'\u001b[39;49m\u001b[38;5;124;43mrb\u001b[39;49m\u001b[38;5;124;43m'\u001b[39;49m\u001b[43m)\u001b[49m \u001b[38;5;28;01mas\u001b[39;00m f:\n\u001b[1;32m   1020\u001b[0m         \u001b[38;5;28;01mreturn\u001b[39;00m f\u001b[38;5;241m.\u001b[39mread()\n",
      "File \u001b[0;32m/Library/Frameworks/Python.framework/Versions/3.12/lib/python3.12/pathlib.py:1013\u001b[0m, in \u001b[0;36mPath.open\u001b[0;34m(self, mode, buffering, encoding, errors, newline)\u001b[0m\n\u001b[1;32m   1011\u001b[0m \u001b[38;5;28;01mif\u001b[39;00m \u001b[38;5;124m\"\u001b[39m\u001b[38;5;124mb\u001b[39m\u001b[38;5;124m\"\u001b[39m \u001b[38;5;129;01mnot\u001b[39;00m \u001b[38;5;129;01min\u001b[39;00m mode:\n\u001b[1;32m   1012\u001b[0m     encoding \u001b[38;5;241m=\u001b[39m io\u001b[38;5;241m.\u001b[39mtext_encoding(encoding)\n\u001b[0;32m-> 1013\u001b[0m \u001b[38;5;28;01mreturn\u001b[39;00m \u001b[43mio\u001b[49m\u001b[38;5;241;43m.\u001b[39;49m\u001b[43mopen\u001b[49m\u001b[43m(\u001b[49m\u001b[38;5;28;43mself\u001b[39;49m\u001b[43m,\u001b[49m\u001b[43m \u001b[49m\u001b[43mmode\u001b[49m\u001b[43m,\u001b[49m\u001b[43m \u001b[49m\u001b[43mbuffering\u001b[49m\u001b[43m,\u001b[49m\u001b[43m \u001b[49m\u001b[43mencoding\u001b[49m\u001b[43m,\u001b[49m\u001b[43m \u001b[49m\u001b[43merrors\u001b[49m\u001b[43m,\u001b[49m\u001b[43m \u001b[49m\u001b[43mnewline\u001b[49m\u001b[43m)\u001b[49m\n",
      "\u001b[0;31mFileNotFoundError\u001b[0m: [Errno 2] No such file or directory: 'GFZ0MGXRAP_20240100000_01D_05M_ORB.SP3.gz'"
     ]
    }
   ],
   "source": [
    "pattern = {\n",
    "    'MACROCOSM-5': 'data_pr/MACROCOSM-5_raw_202401101416.24O',}\n",
    "result=gv.preprocess(pattern,outputresult=True)"
   ]
  },
  {
   "cell_type": "code",
   "execution_count": null,
   "metadata": {},
   "outputs": [],
   "source": [
    "result"
   ]
  },
  {
   "cell_type": "code",
   "execution_count": null,
   "metadata": {},
   "outputs": [],
   "source": [
    "obs=['MACROCOSM-5'][0]\n",
    "obs"
   ]
  },
  {
   "cell_type": "code",
   "execution_count": null,
   "metadata": {},
   "outputs": [],
   "source": [
    "obs.observation"
   ]
  },
  {
   "cell_type": "code",
   "execution_count": null,
   "metadata": {},
   "outputs": [],
   "source": [
    "pattern = {\n",
    "    'MACROCOSM-5': 'pr_examples/data_pr/MACROCOSM-5_raw_202401101416.24O',}\n",
    "result=gv.preprocess(pattern,interval='15S',outputresult=True)\n",
    "result['MACROCOSM-5'][0].observation"
   ]
  },
  {
   "cell_type": "code",
   "execution_count": null,
   "metadata": {},
   "outputs": [],
   "source": [
    "#batch\n",
    "pattern= {'MACROCOSM-5': 'pr_examples/data_pr/*.*O'}\n",
    "outputdir= {'MACROCOSM-5': 'pr_examples/data_pr/nc'}\n",
    "\n",
    "keepvars = ['S1C','S1X','S2C','S2X']\n",
    "\n",
    "gv.preprocess(pattern, interval='15S',keepvars=keepvars,outputdir=outputdir)"
   ]
  }
 ],
 "metadata": {
  "kernelspec": {
   "display_name": "Python 3 (ipykernel)",
   "language": "python",
   "name": "python3"
  },
  "language_info": {
   "codemirror_mode": {
    "name": "ipython",
    "version": 3
   },
   "file_extension": ".py",
   "mimetype": "text/x-python",
   "name": "python",
   "nbconvert_exporter": "python",
   "pygments_lexer": "ipython3",
   "version": "3.12.1"
  }
 },
 "nbformat": 4,
 "nbformat_minor": 4
}
