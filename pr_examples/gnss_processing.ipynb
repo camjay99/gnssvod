{
 "cells": [
  {
   "cell_type": "code",
   "execution_count": 1,
   "metadata": {},
   "outputs": [],
   "source": [
    "#Chunk that sloads necessary packages & sets working environment to where the jupyterlab notebook file is \n",
    "%load_ext autoreload\n",
    "%autoreload 2\n",
    "import gnssvod as gv\n",
    "import numpy as np\n",
    "import pandas as pd\n",
    "import matplotlib.pyplot as plt\n",
    "import matplotlib.dates as mdates\n",
    "import pdb\n",
    "import importlib\n",
    "import zipfile\n",
    "import os\n",
    "import xarray as xr\n",
    "import glob\n",
    "import shutil\n",
    "from gnssvod.hemistats.hemistats import hemibuild\n",
    "#import georinex as gr\n",
    "#import qgrid as interactive table \n",
    "from matplotlib.collections import PatchCollection\n",
    "import matplotlib.dates as mdates\n",
    "import shutil\n",
    "from matplotlib import rcParams\n",
    "from datetime import datetime, timedelta"
   ]
  },
  {
   "cell_type": "code",
   "execution_count": 2,
   "metadata": {},
   "outputs": [
    {
     "data": {
      "text/plain": [
       "IntervalIndex([[2023-01-01 00:00:00, 2023-01-01 01:00:00), [2023-01-01 01:00:00, 2023-01-01 02:00:00)], dtype='interval[datetime64[ns], left]')"
      ]
     },
     "execution_count": 2,
     "metadata": {},
     "output_type": "execute_result"
    }
   ],
   "source": [
    "startday = pd.to_datetime('01-01-2023',format='%d-%m-%Y')\n",
    "timeintervals=pd.interval_range(start=startday, periods=2, freq='h', closed='left')\n",
    "timeintervals"
   ]
  },
  {
   "cell_type": "code",
   "execution_count": 7,
   "metadata": {},
   "outputs": [
    {
     "name": "stdout",
     "output_type": "stream",
     "text": [
      "Created a temporary directory at /var/folders/fh/962dt8rs1zd8vch980_pv5yc0000gn/T/tmp72_mxg64\n",
      "MACROCOSM-5_raw_202403122109.nc already exists, skipping.. (pass overwrite=True to overwrite)\n",
      "Removed the temporary directory at /var/folders/fh/962dt8rs1zd8vch980_pv5yc0000gn/T/tmp72_mxg64\n"
     ]
    }
   ],
   "source": [
    "#one obs\n",
    "pattern= {'MACROCOSM-5':'/Volumes/coraldelmar/march_collection/extracted/MACROCOSM-5/MACROCOSM-5_raw_202403122109.24O'}\n",
    "outputdir={'MACROCOSM-5':'march_collection/MACROCOSM-5/nc/'}\n",
    "approx_position=[-4705.036,43.000,23011766.990]\n",
    "keepvars=['S1C','S1X','S2C','S2X']\n",
    "gv.preprocess(pattern,interval='30s',keepvars=keepvars,outputdir=outputdir, approx_position=approx_position)\n",
    "#ask VH- some files have this error, others do not. "
   ]
  },
  {
   "cell_type": "code",
   "execution_count": 5,
   "metadata": {},
   "outputs": [
    {
     "name": "stdout",
     "output_type": "stream",
     "text": [
      "Created a temporary directory at /var/folders/fh/962dt8rs1zd8vch980_pv5yc0000gn/T/tmpmvg__p8q\n",
      "MACROCOSM-5_raw_202309152018.nc already exists, skipping.. (pass overwrite=True to overwrite)\n",
      "MACROCOSM-5_raw_202310241828.nc already exists, skipping.. (pass overwrite=True to overwrite)\n",
      "MACROCOSM-5_raw_202310191519.nc already exists, skipping.. (pass overwrite=True to overwrite)\n",
      "MACROCOSM-5_raw_202306271358.nc already exists, skipping.. (pass overwrite=True to overwrite)\n",
      "MACROCOSM-5_raw_202310251828.nc already exists, skipping.. (pass overwrite=True to overwrite)\n",
      "MACROCOSM-5_raw_202305081218.nc already exists, skipping.. (pass overwrite=True to overwrite)\n",
      "MACROCOSM-5_raw_202310271828.nc already exists, skipping.. (pass overwrite=True to overwrite)\n",
      "MACROCOSM-5_raw_202310261828.nc already exists, skipping.. (pass overwrite=True to overwrite)\n",
      "MACROCOSM-5_raw_202305082218.nc already exists, skipping.. (pass overwrite=True to overwrite)\n",
      "MACROCOSM-5_raw_202310231828.nc already exists, skipping.. (pass overwrite=True to overwrite)\n",
      "MACROCOSM-5_raw_202310281319.nc already exists, skipping.. (pass overwrite=True to overwrite)\n",
      "MACROCOSM-5_raw_202310201519.nc already exists, skipping.. (pass overwrite=True to overwrite)\n",
      "MACROCOSM-5_raw_202306281358.nc already exists, skipping.. (pass overwrite=True to overwrite)\n",
      "MACROCOSM-5_raw_202310301309.nc already exists, skipping.. (pass overwrite=True to overwrite)\n",
      "MACROCOSM-5_raw_202305081918.nc already exists, skipping.. (pass overwrite=True to overwrite)\n",
      "MACROCOSM-5_raw_202306291358.nc already exists, skipping.. (pass overwrite=True to overwrite)\n",
      "MACROCOSM-5_raw_202310211519.nc already exists, skipping.. (pass overwrite=True to overwrite)\n",
      "MACROCOSM-5_raw_202310291319.nc already exists, skipping.. (pass overwrite=True to overwrite)\n",
      "MACROCOSM-5_raw_202306301358.nc already exists, skipping.. (pass overwrite=True to overwrite)\n",
      "MACROCOSM-5_raw_202310231519.nc already exists, skipping.. (pass overwrite=True to overwrite)\n",
      "MACROCOSM-5_raw_202309151848.nc already exists, skipping.. (pass overwrite=True to overwrite)\n",
      "MACROCOSM-5_raw_202310221519.nc already exists, skipping.. (pass overwrite=True to overwrite)\n",
      "Removed the temporary directory at /var/folders/fh/962dt8rs1zd8vch980_pv5yc0000gn/T/tmpmvg__p8q\n"
     ]
    }
   ],
   "source": [
    "#batch processing for one station\n",
    "## got error in october 04, but did not see nc files for dates before\n",
    "pattern= {'MACROCOSM-5':'/Volumes/coraldelmar/march_collection/extracted/MACROCOSM-5/MACROCOSM-5_raw_*.23O'}\n",
    "outputdir={'MACROCOSM-5':'march_collection/MACROCOSM-5/nc/'}\n",
    "approx_position=[ 2481059.8071, -5525682.2093 ,1992263.4961]\n",
    "keepvars=['S1C','S1X','S2C','S2X']\n",
    "gv.preprocess(pattern,interval='30s',keepvars=keepvars,outputdir=outputdir, approx_position=approx_position)"
   ]
  },
  {
   "cell_type": "code",
   "execution_count": 2,
   "metadata": {
    "collapsed": true,
    "jupyter": {
     "outputs_hidden": true
    },
    "tags": []
   },
   "outputs": [
    {
     "name": "stdout",
     "output_type": "stream",
     "text": [
      "Created a temporary directory at /var/folders/fh/962dt8rs1zd8vch980_pv5yc0000gn/T/tmp320mk6of\n",
      "MACROCOSM-2_raw_202307140108.nc already exists, skipping.. (pass overwrite=True to overwrite)\n",
      "MACROCOSM-2_raw_202302211253.nc already exists, skipping.. (pass overwrite=True to overwrite)\n",
      "MACROCOSM-2_raw_202304201245.nc already exists, skipping.. (pass overwrite=True to overwrite)\n",
      "MACROCOSM-2_raw_202304251857.nc already exists, skipping.. (pass overwrite=True to overwrite)\n",
      "MACROCOSM-2_raw_202310281900.nc already exists, skipping.. (pass overwrite=True to overwrite)\n",
      "MACROCOSM-2_raw_202305101857.nc already exists, skipping.. (pass overwrite=True to overwrite)\n",
      "MACROCOSM-2_raw_202311231737.nc already exists, skipping.. (pass overwrite=True to overwrite)\n",
      "MACROCOSM-2_raw_202303301340.nc already exists, skipping.. (pass overwrite=True to overwrite)\n",
      "MACROCOSM-2_raw_202312121227.nc already exists, skipping.. (pass overwrite=True to overwrite)\n",
      "MACROCOSM-2_raw_202310211900.nc already exists, skipping.. (pass overwrite=True to overwrite)\n",
      "MACROCOSM-2_raw_202312011737.nc already exists, skipping.. (pass overwrite=True to overwrite)\n",
      "MACROCOSM-2_raw_202303291340.nc already exists, skipping.. (pass overwrite=True to overwrite)\n",
      "MACROCOSM-2_raw_202312032110.nc already exists, skipping.. (pass overwrite=True to overwrite)\n",
      "MACROCOSM-2_raw_202305091857.nc already exists, skipping.. (pass overwrite=True to overwrite)\n",
      "MACROCOSM-2_raw_202311151252.nc already exists, skipping.. (pass overwrite=True to overwrite)\n",
      "MACROCOSM-2_raw_202310201900.nc already exists, skipping.. (pass overwrite=True to overwrite)\n",
      "MACROCOSM-2_raw_202312131227.nc already exists, skipping.. (pass overwrite=True to overwrite)\n",
      "MACROCOSM-2_raw_202311151323.nc already exists, skipping.. (pass overwrite=True to overwrite)\n",
      "MACROCOSM-2_raw_202301281539.nc already exists, skipping.. (pass overwrite=True to overwrite)\n",
      "MACROCOSM-2_raw_202311141252.nc already exists, skipping.. (pass overwrite=True to overwrite)\n",
      "MACROCOSM-2_raw_202305081857.nc already exists, skipping.. (pass overwrite=True to overwrite)\n",
      "MACROCOSM-2_raw_202302201253.nc already exists, skipping.. (pass overwrite=True to overwrite)\n",
      "MACROCOSM-2_raw_202307150108.nc already exists, skipping.. (pass overwrite=True to overwrite)\n",
      "MACROCOSM-2_raw_202304241857.nc already exists, skipping.. (pass overwrite=True to overwrite)\n",
      "MACROCOSM-2_raw_202310291900.nc already exists, skipping.. (pass overwrite=True to overwrite)\n",
      "MACROCOSM-2_raw_202312040230.nc already exists, skipping.. (pass overwrite=True to overwrite)\n",
      "MACROCOSM-2_raw_202305011857.nc already exists, skipping.. (pass overwrite=True to overwrite)\n",
      "MACROCOSM-2_raw_202311221737.nc already exists, skipping.. (pass overwrite=True to overwrite)\n",
      "MACROCOSM-2_raw_202303311340.nc already exists, skipping.. (pass overwrite=True to overwrite)\n",
      "MACROCOSM-2_raw_202312021737.nc already exists, skipping.. (pass overwrite=True to overwrite)\n",
      "MACROCOSM-2_raw_202310221900.nc already exists, skipping.. (pass overwrite=True to overwrite)\n",
      "MACROCOSM-2_raw_202312040040.nc already exists, skipping.. (pass overwrite=True to overwrite)\n",
      "MACROCOSM-2_raw_202312111227.nc already exists, skipping.. (pass overwrite=True to overwrite)\n",
      "MACROCOSM-2_raw_202302081248.nc already exists, skipping.. (pass overwrite=True to overwrite)\n",
      "MACROCOSM-2_raw_202308191559.nc already exists, skipping.. (pass overwrite=True to overwrite)\n",
      "MACROCOSM-2_raw_202311171323.nc already exists, skipping.. (pass overwrite=True to overwrite)\n",
      "MACROCOSM-2_raw_202311291737.nc already exists, skipping.. (pass overwrite=True to overwrite)\n",
      "MACROCOSM-2_raw_202301141339.nc already exists, skipping.. (pass overwrite=True to overwrite)\n",
      "MACROCOSM-2_raw_202307170108.nc already exists, skipping.. (pass overwrite=True to overwrite)\n",
      "MACROCOSM-2_raw_202302221253.nc already exists, skipping.. (pass overwrite=True to overwrite)\n",
      "MACROCOSM-2_raw_202307070108.nc already exists, skipping.. (pass overwrite=True to overwrite)\n",
      "MACROCOSM-2_raw_202311301737.nc already exists, skipping.. (pass overwrite=True to overwrite)\n",
      "MACROCOSM-2_raw_202312081226.nc already exists, skipping.. (pass overwrite=True to overwrite)\n",
      "MACROCOSM-2_raw_202305031857.nc already exists, skipping.. (pass overwrite=True to overwrite)\n",
      "MACROCOSM-2_raw_202304271857.nc already exists, skipping.. (pass overwrite=True to overwrite)\n",
      "MACROCOSM-2_raw_202307160108.nc already exists, skipping.. (pass overwrite=True to overwrite)\n",
      "MACROCOSM-2_raw_202311211737.nc already exists, skipping.. (pass overwrite=True to overwrite)\n",
      "MACROCOSM-2_raw_202303071242.nc already exists, skipping.. (pass overwrite=True to overwrite)\n",
      "MACROCOSM-2_raw_202312040523.nc already exists, skipping.. (pass overwrite=True to overwrite)\n",
      "MACROCOSM-2_raw_202312091226.nc already exists, skipping.. (pass overwrite=True to overwrite)\n",
      "MACROCOSM-2_raw_202305021857.nc already exists, skipping.. (pass overwrite=True to overwrite)\n",
      "MACROCOSM-2_raw_202312031737.nc already exists, skipping.. (pass overwrite=True to overwrite)\n",
      "MACROCOSM-2_raw_202302091248.nc already exists, skipping.. (pass overwrite=True to overwrite)\n",
      "MACROCOSM-2_raw_202312151438.nc already exists, skipping.. (pass overwrite=True to overwrite)\n",
      "MACROCOSM-2_raw_202310231900.nc already exists, skipping.. (pass overwrite=True to overwrite)\n",
      "MACROCOSM-2_raw_202308181559.nc already exists, skipping.. (pass overwrite=True to overwrite)\n",
      "MACROCOSM-2_raw_202312101226.nc already exists, skipping.. (pass overwrite=True to overwrite)\n",
      "MACROCOSM-2_raw_202311190127.nc already exists, skipping.. (pass overwrite=True to overwrite)\n",
      "MACROCOSM-2_raw_202311281737.nc already exists, skipping.. (pass overwrite=True to overwrite)\n",
      "MACROCOSM-2_raw_202311161323.nc already exists, skipping.. (pass overwrite=True to overwrite)\n",
      "MACROCOSM-2_raw_202311121252.nc already exists, skipping.. (pass overwrite=True to overwrite)\n",
      "MACROCOSM-2_raw_202312051226.nc already exists, skipping.. (pass overwrite=True to overwrite)\n",
      "MACROCOSM-2_raw_202310191900.nc already exists, skipping.. (pass overwrite=True to overwrite)\n",
      "MACROCOSM-2_raw_202304051311.nc already exists, skipping.. (pass overwrite=True to overwrite)\n",
      "MACROCOSM-2_raw_202304131235.nc already exists, skipping.. (pass overwrite=True to overwrite)\n",
      "MACROCOSM-2_raw_202310261900.nc already exists, skipping.. (pass overwrite=True to overwrite)\n",
      "MACROCOSM-2_raw_202311241737.nc already exists, skipping.. (pass overwrite=True to overwrite)\n",
      "MACROCOSM-2_raw_202301271539.nc already exists, skipping.. (pass overwrite=True to overwrite)\n",
      "MACROCOSM-2_raw_202304181245.nc already exists, skipping.. (pass overwrite=True to overwrite)\n",
      "MACROCOSM-2_raw_202310051448.nc already exists, skipping.. (pass overwrite=True to overwrite)\n",
      "MACROCOSM-2_raw_202305071857.nc already exists, skipping.. (pass overwrite=True to overwrite)\n",
      "MACROCOSM-2_raw_202301202059.nc already exists, skipping.. (pass overwrite=True to overwrite)\n",
      "MACROCOSM-2_raw_202307130108.nc already exists, skipping.. (pass overwrite=True to overwrite)\n",
      "MACROCOSM-2_raw_202303221238.nc already exists, skipping.. (pass overwrite=True to overwrite)\n",
      "/Volumes/coraldelmar/march_collection/extracted/MACROCOSM-2/MACROCOSM-2_raw_202311251737.23O exists | Reading...\n",
      "Observation file  /Volumes/coraldelmar/march_collection/extracted/MACROCOSM-2/MACROCOSM-2_raw_202311251737.23O  is read in 43.25 seconds.\n",
      "Processing 2145677 individual observations\n",
      "Calculating Azimuth and Elevation\n",
      "This file does not exist: /var/folders/fh/962dt8rs1zd8vch980_pv5yc0000gn/T/tmp320mk6of/GFZ0MGXRAP_20233290000_01D_05M_ORB.SP3\n",
      "Downloading: ftp://gssc.esa.int/gnss/products/2289//GFZ0MGXRAP_20233290000_01D_05M_ORB.SP3.gz"
     ]
    },
    {
     "name": "stderr",
     "output_type": "stream",
     "text": [
      "GFZ0MGXRAP_20233290000_01D_05M_ORB.SP3.gz: 0.99MB [00:01, 638kB/s]              \n"
     ]
    },
    {
     "name": "stdout",
     "output_type": "stream",
     "text": [
      " | Download completed for ftp://gssc.esa.int/gnss/products/2289//GFZ0MGXRAP_20233290000_01D_05M_ORB.SP3.gz\n",
      "/var/folders/fh/962dt8rs1zd8vch980_pv5yc0000gn/T/tmp320mk6of/GFZ0MGXRAP_20233290000_01D_05M_ORB.SP3 file is read in 1.97 seconds\n",
      "This file does not exist: /var/folders/fh/962dt8rs1zd8vch980_pv5yc0000gn/T/tmp320mk6of/GFZ0MGXRAP_20233300000_01D_05M_ORB.SP3\n",
      "Downloading: ftp://gssc.esa.int/gnss/products/2290//GFZ0MGXRAP_20233300000_01D_05M_ORB.SP3.gz"
     ]
    },
    {
     "name": "stderr",
     "output_type": "stream",
     "text": [
      "GFZ0MGXRAP_20233300000_01D_05M_ORB.SP3.gz: 0.99MB [00:01, 641kB/s]              \n"
     ]
    },
    {
     "name": "stdout",
     "output_type": "stream",
     "text": [
      " | Download completed for ftp://gssc.esa.int/gnss/products/2290//GFZ0MGXRAP_20233300000_01D_05M_ORB.SP3.gz\n",
      "/var/folders/fh/962dt8rs1zd8vch980_pv5yc0000gn/T/tmp320mk6of/GFZ0MGXRAP_20233300000_01D_05M_ORB.SP3 file is read in 1.92 seconds\n",
      "This file does not exist: /var/folders/fh/962dt8rs1zd8vch980_pv5yc0000gn/T/tmp320mk6of/GFZ0MGXRAP_20233290000_01D_30S_CLK.CLK\n",
      "Downloading: GFZ0MGXRAP_20233290000_01D_30S_CLK.CLK.gz"
     ]
    },
    {
     "name": "stderr",
     "output_type": "stream",
     "text": [
      "GFZ0MGXRAP_20233290000_01D_30S_CLK.CLK.gz: 4.45MB [00:01, 2.52MB/s]             \n"
     ]
    },
    {
     "name": "stdout",
     "output_type": "stream",
     "text": [
      " | Download completed for GFZ0MGXRAP_20233290000_01D_30S_CLK.CLK.gz\n",
      "/var/folders/fh/962dt8rs1zd8vch980_pv5yc0000gn/T/tmp320mk6of/GFZ0MGXRAP_20233290000_01D_30S_CLK.CLK file is read in 1.06 seconds\n",
      "This file does not exist: /var/folders/fh/962dt8rs1zd8vch980_pv5yc0000gn/T/tmp320mk6of/GFZ0MGXRAP_20233300000_01D_30S_CLK.CLK\n",
      "Downloading: GFZ0MGXRAP_20233300000_01D_30S_CLK.CLK.gz"
     ]
    },
    {
     "name": "stderr",
     "output_type": "stream",
     "text": [
      "GFZ0MGXRAP_20233300000_01D_30S_CLK.CLK.gz: 4.53MB [00:01, 2.41MB/s]             \n"
     ]
    },
    {
     "name": "stdout",
     "output_type": "stream",
     "text": [
      " | Download completed for GFZ0MGXRAP_20233300000_01D_30S_CLK.CLK.gz\n",
      "/var/folders/fh/962dt8rs1zd8vch980_pv5yc0000gn/T/tmp320mk6of/GFZ0MGXRAP_20233300000_01D_30S_CLK.CLK file is read in 1.10 seconds\n",
      "SP3 interpolation is done in 1.76 seconds\n"
     ]
    },
    {
     "ename": "IndexError",
     "evalue": "list index out of range",
     "output_type": "error",
     "traceback": [
      "\u001b[0;31m---------------------------------------------------------------------------\u001b[0m",
      "\u001b[0;31mIndexError\u001b[0m                                Traceback (most recent call last)",
      "Cell \u001b[0;32mIn[2], line 6\u001b[0m\n\u001b[1;32m      4\u001b[0m approx_position\u001b[38;5;241m=\u001b[39m[\u001b[38;5;241m2481170.8276\u001b[39m \u001b[38;5;241m-\u001b[39m\u001b[38;5;241m5525721.2902\u001b[39m,\u001b[38;5;241m1992311.7021\u001b[39m ]\n\u001b[1;32m      5\u001b[0m keepvars\u001b[38;5;241m=\u001b[39m[\u001b[38;5;124m'\u001b[39m\u001b[38;5;124mS1C\u001b[39m\u001b[38;5;124m'\u001b[39m,\u001b[38;5;124m'\u001b[39m\u001b[38;5;124mS1X\u001b[39m\u001b[38;5;124m'\u001b[39m,\u001b[38;5;124m'\u001b[39m\u001b[38;5;124mS2C\u001b[39m\u001b[38;5;124m'\u001b[39m,\u001b[38;5;124m'\u001b[39m\u001b[38;5;124mS2X\u001b[39m\u001b[38;5;124m'\u001b[39m]\n\u001b[0;32m----> 6\u001b[0m gv\u001b[38;5;241m.\u001b[39mpreprocess(pattern,interval\u001b[38;5;241m=\u001b[39m\u001b[38;5;124m'\u001b[39m\u001b[38;5;124m30s\u001b[39m\u001b[38;5;124m'\u001b[39m,keepvars\u001b[38;5;241m=\u001b[39mkeepvars,outputdir\u001b[38;5;241m=\u001b[39moutputdir,approx_position\u001b[38;5;241m=\u001b[39mapprox_position)\n",
      "File \u001b[0;32m~/miniforge3/envs/gnss_vod/lib/python3.13/site-packages/gnssvod/io/preprocess.py:157\u001b[0m, in \u001b[0;36mpreprocess\u001b[0;34m(filepattern, orbit, interval, keepvars, outputdir, overwrite, encoding, outputresult, aux_path, approx_position)\u001b[0m\n\u001b[1;32m    153\u001b[0m \u001b[38;5;66;03m# note: orbit cannot be parallelized easily because it \u001b[39;00m\n\u001b[1;32m    154\u001b[0m \u001b[38;5;66;03m# downloads and unzips third-party files in the current directory\u001b[39;00m\n\u001b[1;32m    155\u001b[0m \u001b[38;5;28;01mif\u001b[39;00m \u001b[38;5;129;01mnot\u001b[39;00m \u001b[38;5;124m'\u001b[39m\u001b[38;5;124morbit_data\u001b[39m\u001b[38;5;124m'\u001b[39m \u001b[38;5;129;01min\u001b[39;00m \u001b[38;5;28mlocals\u001b[39m():\n\u001b[1;32m    156\u001b[0m     \u001b[38;5;66;03m# if there is no previous orbit data, the orbit data is returned as well\u001b[39;00m\n\u001b[0;32m--> 157\u001b[0m     x, orbit_data \u001b[38;5;241m=\u001b[39m add_azi_ele(x, aux_path \u001b[38;5;241m=\u001b[39m aux_path)\n\u001b[1;32m    158\u001b[0m \u001b[38;5;28;01melse\u001b[39;00m:\n\u001b[1;32m    159\u001b[0m     \u001b[38;5;66;03m# on following iterations the orbit data is tentatively recycled to reduce computational time\u001b[39;00m\n\u001b[1;32m    160\u001b[0m     x, orbit_data \u001b[38;5;241m=\u001b[39m add_azi_ele(x, orbit_data, aux_path \u001b[38;5;241m=\u001b[39m aux_path)\n",
      "File \u001b[0;32m~/miniforge3/envs/gnss_vod/lib/python3.13/site-packages/gnssvod/io/preprocess.py:249\u001b[0m, in \u001b[0;36madd_azi_ele\u001b[0;34m(obs, orbit_data, aux_path)\u001b[0m\n\u001b[1;32m    246\u001b[0m     orbit \u001b[38;5;241m=\u001b[39m orbit_data\n\u001b[1;32m    248\u001b[0m \u001b[38;5;66;03m# calculate the gnss parameters (including azimuth and elevation)\u001b[39;00m\n\u001b[0;32m--> 249\u001b[0m gnssdf \u001b[38;5;241m=\u001b[39m gnssDataframe(obs,orbit,cut_off\u001b[38;5;241m=\u001b[39m\u001b[38;5;241m-\u001b[39m\u001b[38;5;241m10\u001b[39m)\n\u001b[1;32m    250\u001b[0m \u001b[38;5;66;03m# add the gnss parameters to the observation dataframe\u001b[39;00m\n\u001b[1;32m    251\u001b[0m obs\u001b[38;5;241m.\u001b[39mobservation \u001b[38;5;241m=\u001b[39m obs\u001b[38;5;241m.\u001b[39mobservation\u001b[38;5;241m.\u001b[39mjoin(gnssdf[[\u001b[38;5;124m'\u001b[39m\u001b[38;5;124mAzimuth\u001b[39m\u001b[38;5;124m'\u001b[39m,\u001b[38;5;124m'\u001b[39m\u001b[38;5;124mElevation\u001b[39m\u001b[38;5;124m'\u001b[39m]])\n",
      "File \u001b[0;32m~/miniforge3/envs/gnss_vod/lib/python3.13/site-packages/gnssvod/position/position.py:92\u001b[0m, in \u001b[0;36mgnssDataframe\u001b[0;34m(station, orbit, system, cut_off)\u001b[0m\n\u001b[1;32m     90\u001b[0m gnss \u001b[38;5;241m=\u001b[39m _pd\u001b[38;5;241m.\u001b[39mconcat([station\u001b[38;5;241m.\u001b[39mobservation\u001b[38;5;241m.\u001b[39mloc[epochMatch]\u001b[38;5;241m.\u001b[39mcopy(), orbit\u001b[38;5;241m.\u001b[39mloc[epochMatch]], axis\u001b[38;5;241m=\u001b[39m\u001b[38;5;241m1\u001b[39m)\n\u001b[1;32m     91\u001b[0m gnss \u001b[38;5;241m=\u001b[39m gnss[gnss[\u001b[38;5;124m'\u001b[39m\u001b[38;5;124mSYSTEM\u001b[39m\u001b[38;5;124m'\u001b[39m]\u001b[38;5;241m.\u001b[39misin(system)]\n\u001b[0;32m---> 92\u001b[0m gnss[\u001b[38;5;124m\"\u001b[39m\u001b[38;5;124mDistance\u001b[39m\u001b[38;5;124m\"\u001b[39m] \u001b[38;5;241m=\u001b[39m _distance_euclidean(station\u001b[38;5;241m.\u001b[39mapprox_position[\u001b[38;5;241m0\u001b[39m], station\u001b[38;5;241m.\u001b[39mapprox_position[\u001b[38;5;241m1\u001b[39m], station\u001b[38;5;241m.\u001b[39mapprox_position[\u001b[38;5;241m2\u001b[39m], gnss\u001b[38;5;241m.\u001b[39mX, gnss\u001b[38;5;241m.\u001b[39mY, gnss\u001b[38;5;241m.\u001b[39mZ)\n\u001b[1;32m     93\u001b[0m gnss[\u001b[38;5;124m\"\u001b[39m\u001b[38;5;124mRelativistic_clock\u001b[39m\u001b[38;5;124m\"\u001b[39m] \u001b[38;5;241m=\u001b[39m _relativistic_clock(gnss\u001b[38;5;241m.\u001b[39mX, gnss\u001b[38;5;241m.\u001b[39mY, gnss\u001b[38;5;241m.\u001b[39mZ, gnss\u001b[38;5;241m.\u001b[39mVx, gnss\u001b[38;5;241m.\u001b[39mVy, gnss\u001b[38;5;241m.\u001b[39mVz)\n\u001b[1;32m     94\u001b[0m gnss[\u001b[38;5;124m'\u001b[39m\u001b[38;5;124mAzimuth\u001b[39m\u001b[38;5;124m'\u001b[39m], gnss[\u001b[38;5;124m'\u001b[39m\u001b[38;5;124mElevation\u001b[39m\u001b[38;5;124m'\u001b[39m], gnss[\u001b[38;5;124m'\u001b[39m\u001b[38;5;124mZenith\u001b[39m\u001b[38;5;124m'\u001b[39m] \u001b[38;5;241m=\u001b[39m _azel(station\u001b[38;5;241m.\u001b[39mapprox_position[\u001b[38;5;241m0\u001b[39m], station\u001b[38;5;241m.\u001b[39mapprox_position[\u001b[38;5;241m1\u001b[39m], station\u001b[38;5;241m.\u001b[39mapprox_position[\u001b[38;5;241m2\u001b[39m], gnss\u001b[38;5;241m.\u001b[39mX, gnss\u001b[38;5;241m.\u001b[39mY, gnss\u001b[38;5;241m.\u001b[39mZ, gnss\u001b[38;5;241m.\u001b[39mDistance)\n",
      "\u001b[0;31mIndexError\u001b[0m: list index out of range"
     ]
    }
   ],
   "source": [
    "#batch processing for one station\n",
    "pattern= {'MACROCOSM-2':'/Volumes/coraldelmar/march_collection/extracted/MACROCOSM-2/MACROCOSM-2_raw_*.23O'}\n",
    "outputdir={'MACROCOSM-2':'/Volumes/coraldelmar/march_collection/MACROCOSM-2/nc/'  }\n",
    "approx_position=[2481170.8276 -5525721.2902,1992311.7021 ]\n",
    "keepvars=['S1C','S1X','S2C','S2X']\n",
    "gv.preprocess(pattern,interval='30s',keepvars=keepvars,outputdir=outputdir,approx_position=approx_position)"
   ]
  },
  {
   "cell_type": "code",
   "execution_count": 11,
   "metadata": {
    "collapsed": true,
    "jupyter": {
     "outputs_hidden": true
    },
    "tags": []
   },
   "outputs": [
    {
     "name": "stdout",
     "output_type": "stream",
     "text": [
      "Created a temporary directory at /var/folders/fh/962dt8rs1zd8vch980_pv5yc0000gn/T/tmp2pd3a5ui\n",
      "MACROCOSM-7_raw_202501261749.nc already exists, skipping.. (pass overwrite=True to overwrite)\n",
      "MACROCOSM-7_raw_202501121713.nc already exists, skipping.. (pass overwrite=True to overwrite)\n",
      "MACROCOSM-7_raw_202502241733.nc already exists, skipping.. (pass overwrite=True to overwrite)\n",
      "MACROCOSM-7_raw_202502061513.nc already exists, skipping.. (pass overwrite=True to overwrite)\n",
      "MACROCOSM-7_raw_202503011733.nc already exists, skipping.. (pass overwrite=True to overwrite)\n",
      "MACROCOSM-7_raw_202501161320.nc already exists, skipping.. (pass overwrite=True to overwrite)\n",
      "MACROCOSM-7_raw_202502251733.nc already exists, skipping.. (pass overwrite=True to overwrite)\n",
      "MACROCOSM-7_raw_202502071513.nc already exists, skipping.. (pass overwrite=True to overwrite)\n",
      "MACROCOSM-7_raw_202501171320.nc already exists, skipping.. (pass overwrite=True to overwrite)\n",
      "MACROCOSM-7_raw_202501271749.nc already exists, skipping.. (pass overwrite=True to overwrite)\n",
      "MACROCOSM-7_raw_202501131713.nc already exists, skipping.. (pass overwrite=True to overwrite)\n",
      "MACROCOSM-7_raw_202502051513.nc already exists, skipping.. (pass overwrite=True to overwrite)\n",
      "MACROCOSM-7_raw_202502271733.nc already exists, skipping.. (pass overwrite=True to overwrite)\n",
      "MACROCOSM-7_raw_202503021733.nc already exists, skipping.. (pass overwrite=True to overwrite)\n",
      "MACROCOSM-7_raw_202502181733.nc already exists, skipping.. (pass overwrite=True to overwrite)\n",
      "MACROCOSM-7_raw_202501251749.nc already exists, skipping.. (pass overwrite=True to overwrite)\n",
      "MACROCOSM-7_raw_202501111713.nc already exists, skipping.. (pass overwrite=True to overwrite)\n",
      "MACROCOSM-7_raw_202501241749.nc already exists, skipping.. (pass overwrite=True to overwrite)\n",
      "MACROCOSM-7_raw_202502041513.nc already exists, skipping.. (pass overwrite=True to overwrite)\n",
      "MACROCOSM-7_raw_202502261733.nc already exists, skipping.. (pass overwrite=True to overwrite)\n",
      "MACROCOSM-7_raw_202503031733.nc already exists, skipping.. (pass overwrite=True to overwrite)\n",
      "MACROCOSM-7_raw_202502191733.nc already exists, skipping.. (pass overwrite=True to overwrite)\n",
      "MACROCOSM-7_raw_202502011513.nc already exists, skipping.. (pass overwrite=True to overwrite)\n",
      "MACROCOSM-7_raw_202501281749.nc already exists, skipping.. (pass overwrite=True to overwrite)\n",
      "MACROCOSM-7_raw_202502231733.nc already exists, skipping.. (pass overwrite=True to overwrite)\n",
      "MACROCOSM-7_raw_202501151713.nc already exists, skipping.. (pass overwrite=True to overwrite)\n",
      "MACROCOSM-7_raw_202501181320.nc already exists, skipping.. (pass overwrite=True to overwrite)\n",
      "MACROCOSM-7_raw_202501211749.nc already exists, skipping.. (pass overwrite=True to overwrite)\n",
      "MACROCOSM-7_raw_202502081513.nc already exists, skipping.. (pass overwrite=True to overwrite)\n",
      "MACROCOSM-7_raw_202501141713.nc already exists, skipping.. (pass overwrite=True to overwrite)\n",
      "MACROCOSM-7_raw_202501191320.nc already exists, skipping.. (pass overwrite=True to overwrite)\n",
      "MACROCOSM-7_raw_202502221733.nc already exists, skipping.. (pass overwrite=True to overwrite)\n",
      "MACROCOSM-7_raw_202501200751.nc already exists, skipping.. (pass overwrite=True to overwrite)\n",
      "MACROCOSM-7_raw_202501301513.nc already exists, skipping.. (pass overwrite=True to overwrite)\n",
      "MACROCOSM-7_raw_202501221749.nc already exists, skipping.. (pass overwrite=True to overwrite)\n",
      "MACROCOSM-7_raw_202501291513.nc already exists, skipping.. (pass overwrite=True to overwrite)\n",
      "MACROCOSM-7_raw_202503051733.nc already exists, skipping.. (pass overwrite=True to overwrite)\n",
      "MACROCOSM-7_raw_202502201733.nc already exists, skipping.. (pass overwrite=True to overwrite)\n",
      "MACROCOSM-7_raw_202502021513.nc already exists, skipping.. (pass overwrite=True to overwrite)\n",
      "MACROCOSM-7_raw_202501200623.nc already exists, skipping.. (pass overwrite=True to overwrite)\n",
      "MACROCOSM-7_raw_202503041733.nc already exists, skipping.. (pass overwrite=True to overwrite)\n",
      "MACROCOSM-7_raw_202502211733.nc already exists, skipping.. (pass overwrite=True to overwrite)\n",
      "MACROCOSM-7_raw_202502031513.nc already exists, skipping.. (pass overwrite=True to overwrite)\n",
      "MACROCOSM-7_raw_202501311513.nc already exists, skipping.. (pass overwrite=True to overwrite)\n",
      "MACROCOSM-7_raw_202501231749.nc already exists, skipping.. (pass overwrite=True to overwrite)\n",
      "MACROCOSM-7_raw_202502281733.nc already exists, skipping.. (pass overwrite=True to overwrite)\n",
      "Removed the temporary directory at /var/folders/fh/962dt8rs1zd8vch980_pv5yc0000gn/T/tmp2pd3a5ui\n"
     ]
    }
   ],
   "source": [
    "#if i try one file within this year\n",
    "#one obs\n",
    "pattern= {'MACROCOSM-7':'/Volumes/coraldelmar/march_collection/extracted/MACROCOSM-7/*.25O'}\n",
    "outputdir={'MACROCOSM-7':'march_collection/MACROCOSM-7/nc/'}\n",
    "keepvars=['S1C','S1X','S2C','S2X']\n",
    "gv.preprocess(pattern,interval='30s',keepvars=keepvars,outputdir=outputdir)"
   ]
  },
  {
   "cell_type": "markdown",
   "metadata": {},
   "source": [
    "Continue in gnss_gathering"
   ]
  }
 ],
 "metadata": {
  "kernelspec": {
   "display_name": "Python 3 (ipykernel)",
   "language": "python",
   "name": "python3"
  },
  "language_info": {
   "codemirror_mode": {
    "name": "ipython",
    "version": 3
   },
   "file_extension": ".py",
   "mimetype": "text/x-python",
   "name": "python",
   "nbconvert_exporter": "python",
   "pygments_lexer": "ipython3",
   "version": "3.13.2"
  }
 },
 "nbformat": 4,
 "nbformat_minor": 4
}
