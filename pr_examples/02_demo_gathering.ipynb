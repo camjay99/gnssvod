{
 "cells": [
  {
   "cell_type": "markdown",
   "id": "a267e0f9-b4b8-45ab-9d70-d7045571d9e6",
   "metadata": {},
   "source": [
    "# Merging processed data\n",
    "This notebook relies on the data from the previous notebook (but there is no need to run the previous notebook for this one to work however)."
   ]
  },
  {
   "cell_type": "code",
   "execution_count": 8,
   "id": "2fedbcaf-dde3-436d-bf2d-5cc0b24129a6",
   "metadata": {},
   "outputs": [],
   "source": [
    "import gnssvod as gv\n",
    "import pandas as pd\n",
    "import xarray as xr\n",
    "import numpy as np\n",
    "import glob\n",
    "import matplotlib.pyplot as plt\n",
    "from matplotlib.collections import PatchCollection\n",
    "import matplotlib.dates as mdates"
   ]
  },
  {
   "cell_type": "markdown",
   "id": "b1da3daa-f534-4957-8d4c-09d7ec50d67b",
   "metadata": {},
   "source": [
    "## Merge\n",
    "In the previous notebook, we processed raw RINEX observation files individually for each receiver and saved the results in corresponding NetCDF files.\n",
    "\n",
    "In the case of a GNSS-VOD set up, receivers are analysed as pairs. One receiver lies above the forest canopy and provides a clear-sky reference, and the other one lies below the canopy and measures the forest attenuation.\n",
    "\n",
    "Here we merge the data from these two receivers before making any plots. We also save the merged data in chunks that are always the same (for example we save them in daily chunks). This makes it easier to manipulate data and avoids relying on the temporal chunks with which data was initially logged (here data was logged in hourly log files that span from xx:07 too xx+1:06).\n",
    "\n",
    "### gv.gather_stations()\n",
    "This function will do several things\n",
    "- It will read processed observation files that were saved in NetCDF format (output of \"preprocess\").\n",
    "- It will combine data from the various receivers/stations according to user-specified pairing rules.\n",
    "- It will only process data belonging to the requested time interval.\n",
    "- It will return and/or save paired data in temporal chunks specified by the time interval.\n",
    "\n",
    "#### Specifying input files"
   ]
  },
  {
   "cell_type": "code",
   "execution_count": 2,
   "id": "fa2e95bb-d5a9-4887-9206-aec3223f8fb7",
   "metadata": {},
   "outputs": [],
   "source": [
    "# first let's indicate where to find the data for each receiver\n",
    "pattern={'MACROCOSM-5':'data_pr/nc/MACROCOSM-5*.nc',\n",
    "        'MACROCOSM-2': 'data_pr/nc/MACROCOSM-2*.nc'}"
   ]
  },
  {
   "cell_type": "markdown",
   "id": "064dc425-b818-4ec8-b893-e5387ea2c0fa",
   "metadata": {},
   "source": [
    "#### Specifying time interval\n",
    "Then we need to define the temporal interval and the temporal chunks we will want for the output data\n",
    "                                                                             \n",
    "Here we decide to process all data from '28-04-2021' to '29-04-2021', meaning 2 days, starting at '28-04-2021'"
   ]
  },
  {
   "cell_type": "code",
   "execution_count": 3,
   "id": "df7bcab7-266b-4e47-b016-bb66f5b6a87c",
   "metadata": {},
   "outputs": [
    {
     "data": {
      "text/plain": [
       "IntervalIndex([[2024-01-10 00:00:00, 2024-01-11 00:00:00), [2024-01-11 00:00:00, 2024-01-12 00:00:00)], dtype='interval[datetime64[ns], left]')"
      ]
     },
     "execution_count": 3,
     "metadata": {},
     "output_type": "execute_result"
    }
   ],
   "source": [
    "startday = start=pd.to_datetime('10-01-2024',format='%d-%m-%Y')\n",
    "timeintervals=pd.interval_range(start=startday, periods=2, freq='D', closed='left')\n",
    "timeintervals"
   ]
  },
  {
   "cell_type": "markdown",
   "id": "4716a18c-aec0-4f30-b143-3ccd6cf73218",
   "metadata": {},
   "source": [
    "Using the timeintervals above will save/return the results in chunks of 1 day. If we wanted the results in hourly chunks, we could have written instead:\n",
    "\n",
    "`timeintervals=pd.interval_range(start=startday, periods=48, freq='H', closed='left')`\n",
    "\n",
    "Now the only thing left is to define how to combine the stations, using the same dictionary keys as in 'pattern'."
   ]
  },
  {
   "cell_type": "code",
   "execution_count": 4,
   "id": "56232ec2-f8e8-4421-ad97-6400919e88a4",
   "metadata": {},
   "outputs": [
    {
     "name": "stdout",
     "output_type": "stream",
     "text": [
      "Processing MACROCOSM\n",
      "Listing the files matching with the interval\n",
      "Found 1 files for MACROCOSM-5\n",
      "Reading\n",
      "Found 1 files for MACROCOSM-2\n",
      "Reading\n",
      "Concatenating\n"
     ]
    },
    {
     "name": "stderr",
     "output_type": "stream",
     "text": [
      "/Library/Frameworks/Python.framework/Versions/3.12/lib/python3.12/site-packages/gnssvod/io/preprocess.py:335: FutureWarning: The default of observed=False is deprecated and will be changed to True in a future version of pandas. Pass observed=False to retain current behavior or observed=True to adopt the future default and silence this warning.\n",
      "  out[case_name] = [x for x in iout.groupby(pd.cut(iout.index.get_level_values('Epoch').tolist(), timeintervals))]\n"
     ]
    }
   ],
   "source": [
    "# define how to make pairs, always give reference station first, matching the dictionary keys of 'pattern'\n",
    "pairings={'MACROCOSM':('MACROCOSM-5','MACROCOSM-2')}\n",
    "\n",
    "# run function\n",
    "out = gv.gather_stations(pattern,pairings,timeintervals)"
   ]
  },
  {
   "cell_type": "markdown",
   "id": "5ffc79c1-19e9-44d3-9960-d4b71b8bf251",
   "metadata": {},
   "source": [
    "The result is of the form\n",
    "\n",
    "out = dict(key:list(\n",
    "<br>&emsp;&emsp;tuple(pd.Interval,pd.DataFrame)),\n",
    "<br>&emsp;&emsp;tuple(pd.Interval,pd.DataFrame)),\n",
    "<br>&emsp;&emsp;tuple(pd.Interval,pd.DataFrame))\n",
    "<br>)\n",
    "\n",
    "In our case, something like:\n",
    "\n",
    "out = dict('Dav': \\[\n",
    "<br>&emsp;&emsp;(Interval('2021-04-28', '2021-04-29', closed='left'), dataframe),\n",
    "<br>&emsp;&emsp;(Interval('2021-04-29', '2021-04-30', closed='left'), dataframe)\n",
    "<br>\\])"
   ]
  },
  {
   "cell_type": "code",
   "execution_count": 5,
   "id": "3fad3763-17c3-402d-a1a0-505388754fee",
   "metadata": {},
   "outputs": [
    {
     "data": {
      "text/html": [
       "<div>\n",
       "<style scoped>\n",
       "    .dataframe tbody tr th:only-of-type {\n",
       "        vertical-align: middle;\n",
       "    }\n",
       "\n",
       "    .dataframe tbody tr th {\n",
       "        vertical-align: top;\n",
       "    }\n",
       "\n",
       "    .dataframe thead th {\n",
       "        text-align: right;\n",
       "    }\n",
       "</style>\n",
       "<table border=\"1\" class=\"dataframe\">\n",
       "  <thead>\n",
       "    <tr style=\"text-align: right;\">\n",
       "      <th></th>\n",
       "      <th></th>\n",
       "      <th></th>\n",
       "      <th>S1C</th>\n",
       "      <th>S1X</th>\n",
       "      <th>S2C</th>\n",
       "      <th>S2X</th>\n",
       "      <th>Azimuth</th>\n",
       "      <th>Elevation</th>\n",
       "    </tr>\n",
       "    <tr>\n",
       "      <th>Station</th>\n",
       "      <th>Epoch</th>\n",
       "      <th>SV</th>\n",
       "      <th></th>\n",
       "      <th></th>\n",
       "      <th></th>\n",
       "      <th></th>\n",
       "      <th></th>\n",
       "      <th></th>\n",
       "    </tr>\n",
       "  </thead>\n",
       "  <tbody>\n",
       "    <tr>\n",
       "      <th rowspan=\"5\" valign=\"top\">MACROCOSM-5</th>\n",
       "      <th rowspan=\"5\" valign=\"top\">2024-01-10 14:17:15</th>\n",
       "      <th>C20</th>\n",
       "      <td>NaN</td>\n",
       "      <td>NaN</td>\n",
       "      <td>NaN</td>\n",
       "      <td>NaN</td>\n",
       "      <td>-34.7</td>\n",
       "      <td>47.4</td>\n",
       "    </tr>\n",
       "    <tr>\n",
       "      <th>C32</th>\n",
       "      <td>NaN</td>\n",
       "      <td>NaN</td>\n",
       "      <td>NaN</td>\n",
       "      <td>NaN</td>\n",
       "      <td>139.6</td>\n",
       "      <td>72.3</td>\n",
       "    </tr>\n",
       "    <tr>\n",
       "      <th>C37</th>\n",
       "      <td>NaN</td>\n",
       "      <td>NaN</td>\n",
       "      <td>NaN</td>\n",
       "      <td>NaN</td>\n",
       "      <td>-10.6</td>\n",
       "      <td>59.5</td>\n",
       "    </tr>\n",
       "    <tr>\n",
       "      <th>E05</th>\n",
       "      <td>NaN</td>\n",
       "      <td>43.1</td>\n",
       "      <td>NaN</td>\n",
       "      <td>NaN</td>\n",
       "      <td>-27.2</td>\n",
       "      <td>35.3</td>\n",
       "    </tr>\n",
       "    <tr>\n",
       "      <th>E09</th>\n",
       "      <td>NaN</td>\n",
       "      <td>39.0</td>\n",
       "      <td>NaN</td>\n",
       "      <td>NaN</td>\n",
       "      <td>54.3</td>\n",
       "      <td>59.2</td>\n",
       "    </tr>\n",
       "    <tr>\n",
       "      <th>...</th>\n",
       "      <th>...</th>\n",
       "      <th>...</th>\n",
       "      <td>...</td>\n",
       "      <td>...</td>\n",
       "      <td>...</td>\n",
       "      <td>...</td>\n",
       "      <td>...</td>\n",
       "      <td>...</td>\n",
       "    </tr>\n",
       "    <tr>\n",
       "      <th rowspan=\"5\" valign=\"top\">MACROCOSM-2</th>\n",
       "      <th rowspan=\"5\" valign=\"top\">2024-01-10 16:04:30</th>\n",
       "      <th>R07</th>\n",
       "      <td>44.0</td>\n",
       "      <td>NaN</td>\n",
       "      <td>35.0</td>\n",
       "      <td>NaN</td>\n",
       "      <td>-178.5</td>\n",
       "      <td>62.2</td>\n",
       "    </tr>\n",
       "    <tr>\n",
       "      <th>R08</th>\n",
       "      <td>41.9</td>\n",
       "      <td>NaN</td>\n",
       "      <td>31.7</td>\n",
       "      <td>NaN</td>\n",
       "      <td>-44.8</td>\n",
       "      <td>58.3</td>\n",
       "    </tr>\n",
       "    <tr>\n",
       "      <th>R09</th>\n",
       "      <td>31.3</td>\n",
       "      <td>NaN</td>\n",
       "      <td>NaN</td>\n",
       "      <td>NaN</td>\n",
       "      <td>35.3</td>\n",
       "      <td>13.2</td>\n",
       "    </tr>\n",
       "    <tr>\n",
       "      <th>R10</th>\n",
       "      <td>42.0</td>\n",
       "      <td>NaN</td>\n",
       "      <td>NaN</td>\n",
       "      <td>NaN</td>\n",
       "      <td>NaN</td>\n",
       "      <td>NaN</td>\n",
       "    </tr>\n",
       "    <tr>\n",
       "      <th>R11</th>\n",
       "      <td>35.9</td>\n",
       "      <td>NaN</td>\n",
       "      <td>NaN</td>\n",
       "      <td>NaN</td>\n",
       "      <td>-73.7</td>\n",
       "      <td>30.4</td>\n",
       "    </tr>\n",
       "  </tbody>\n",
       "</table>\n",
       "<p>4289 rows × 6 columns</p>\n",
       "</div>"
      ],
      "text/plain": [
       "                                      S1C   S1X   S2C  S2X  Azimuth  Elevation\n",
       "Station     Epoch               SV                                            \n",
       "MACROCOSM-5 2024-01-10 14:17:15 C20   NaN   NaN   NaN  NaN    -34.7       47.4\n",
       "                                C32   NaN   NaN   NaN  NaN    139.6       72.3\n",
       "                                C37   NaN   NaN   NaN  NaN    -10.6       59.5\n",
       "                                E05   NaN  43.1   NaN  NaN    -27.2       35.3\n",
       "                                E09   NaN  39.0   NaN  NaN     54.3       59.2\n",
       "...                                   ...   ...   ...  ...      ...        ...\n",
       "MACROCOSM-2 2024-01-10 16:04:30 R07  44.0   NaN  35.0  NaN   -178.5       62.2\n",
       "                                R08  41.9   NaN  31.7  NaN    -44.8       58.3\n",
       "                                R09  31.3   NaN   NaN  NaN     35.3       13.2\n",
       "                                R10  42.0   NaN   NaN  NaN      NaN        NaN\n",
       "                                R11  35.9   NaN   NaN  NaN    -73.7       30.4\n",
       "\n",
       "[4289 rows x 6 columns]"
      ]
     },
     "execution_count": 5,
     "metadata": {},
     "output_type": "execute_result"
    }
   ],
   "source": [
    "out['MACROCOSM'][0][1]"
   ]
  },
  {
   "cell_type": "markdown",
   "id": "f07f5f97-80f1-4f32-9358-2142a36fb755",
   "metadata": {},
   "source": [
    "#### Specifying output destination\n",
    "Instead of just returning the result as an output of the function, we can specify where to save it instead. Again it may also be useful to get rid of some variables that are not useful to reduce file size."
   ]
  },
  {
   "cell_type": "code",
   "execution_count": 12,
   "id": "351245e9-b575-4433-a78f-fc3e08130672",
   "metadata": {},
   "outputs": [
    {
     "name": "stdout",
     "output_type": "stream",
     "text": [
      "Processing MACROCOSM\n",
      "Listing the files matching with the interval\n",
      "Found 1 files for MACROCOSM-5\n",
      "Reading\n",
      "Found 1 files for MACROCOSM-2\n",
      "Reading\n",
      "Concatenating\n",
      "Saving files for MACROCOSM in data_pr/MACROCOSM_paired/\n",
      "Saved 3982 obs in MACROCOSM_20240110000000_20240111000000.nc\n",
      "No data for timestep 20240111000000_20240112000000, no file saved\n"
     ]
    },
    {
     "name": "stderr",
     "output_type": "stream",
     "text": [
      "/Library/Frameworks/Python.framework/Versions/3.12/lib/python3.12/site-packages/gnssvod/io/preprocess.py:335: FutureWarning: The default of observed=False is deprecated and will be changed to True in a future version of pandas. Pass observed=False to retain current behavior or observed=True to adopt the future default and silence this warning.\n",
      "  out[case_name] = [x for x in iout.groupby(pd.cut(iout.index.get_level_values('Epoch').tolist(), timeintervals))]\n"
     ]
    }
   ],
   "source": [
    "# define where to save output data, matching the dictionary keys in 'pairings'\n",
    "outputdir = {'MACROCOSM':'data_pr/MACROCOSM_paired/'}\n",
    "# define which variables to keep\n",
    "keepvars = ['S1','S2','Azimuth','Elevation']\n",
    "\n",
    "# run function\n",
    "out = gv.gather_stations(pattern,pairings,timeintervals,keepvars=keepvars,outputdir=outputdir)"
   ]
  },
  {
   "cell_type": "markdown",
   "id": "6a14ccda-7cde-4ece-a465-be4114a08d6a",
   "metadata": {},
   "source": [
    "As we asked, the results have been saved as daily files (even though the input files are hourly files). The file names are generated based on the key of the 'pairing' argument (here 'Dav') and the specified time intervals."
   ]
  }
 ],
 "metadata": {
  "kernelspec": {
   "display_name": "Python 3 (ipykernel)",
   "language": "python",
   "name": "python3"
  },
  "language_info": {
   "codemirror_mode": {
    "name": "ipython",
    "version": 3
   },
   "file_extension": ".py",
   "mimetype": "text/x-python",
   "name": "python",
   "nbconvert_exporter": "python",
   "pygments_lexer": "ipython3",
   "version": "3.12.1"
  }
 },
 "nbformat": 4,
 "nbformat_minor": 5
}
