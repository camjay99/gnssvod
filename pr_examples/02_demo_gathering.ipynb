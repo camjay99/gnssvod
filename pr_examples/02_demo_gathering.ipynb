{
 "cells": [
  {
   "cell_type": "markdown",
   "id": "a267e0f9-b4b8-45ab-9d70-d7045571d9e6",
   "metadata": {},
   "source": [
    "# Merging processed data\n",
    "This notebook relies on the data from the previous notebook (but there is no need to run the previous notebook for this one to work however)."
   ]
  },
  {
   "cell_type": "code",
   "execution_count": 11,
   "id": "2fedbcaf-dde3-436d-bf2d-5cc0b24129a6",
   "metadata": {},
   "outputs": [],
   "source": [
    "import gnssvod as gv\n",
    "import pandas as pd\n",
    "import xarray as xr\n",
    "import numpy as np\n",
    "import glob\n",
    "import matplotlib.pyplot as plt\n",
    "from matplotlib.collections import PatchCollection\n",
    "import matplotlib.dates as mdates"
   ]
  },
  {
   "cell_type": "markdown",
   "id": "b1da3daa-f534-4957-8d4c-09d7ec50d67b",
   "metadata": {},
   "source": [
    "## Merge\n",
    "In the previous notebook, we processed raw RINEX observation files individually for each receiver and saved the results in corresponding NetCDF files.\n",
    "\n",
    "In the case of a GNSS-VOD set up, receivers are analysed as pairs. One receiver lies above the forest canopy and provides a clear-sky reference, and the other one lies below the canopy and measures the forest attenuation.\n",
    "\n",
    "Here we merge the data from these two receivers before making any plots. We also save the merged data in chunks that are always the same (for example we save them in daily chunks). This makes it easier to manipulate data and avoids relying on the temporal chunks with which data was initially logged (here data was logged in hourly log files that span from xx:07 too xx+1:06).\n",
    "\n",
    "### gv.gather_stations()\n",
    "This function will do several things\n",
    "- It will read processed observation files that were saved in NetCDF format (output of \"preprocess\").\n",
    "- It will combine data from the various receivers/stations according to user-specified pairing rules.\n",
    "- It will only process data belonging to the requested time interval.\n",
    "- It will return and/or save paired data in temporal chunks specified by the time interval.\n",
    "\n",
    "#### Specifying input files"
   ]
  },
  {
   "cell_type": "code",
   "execution_count": 12,
   "id": "fa2e95bb-d5a9-4887-9206-aec3223f8fb7",
   "metadata": {},
   "outputs": [],
   "source": [
    "# first let's indicate where to find the data for each receiver\n",
    "pattern={'MACROCOSM-5':'data_pr/nc/MACROCOSM-5*.nc',\n",
    "        'MACROCOSM-1': 'data_pr/nc/MACROCOSM-1*.nc'}"
   ]
  },
  {
   "cell_type": "markdown",
   "id": "064dc425-b818-4ec8-b893-e5387ea2c0fa",
   "metadata": {},
   "source": [
    "#### Specifying time interval\n",
    "Then we need to define the temporal interval and the temporal chunks we will want for the output data\n",
    "                                                                             \n",
    "Here we decide to process all data from '28-04-2021' to '29-04-2021', meaning 2 days, starting at '28-04-2021'"
   ]
  },
  {
   "cell_type": "code",
   "execution_count": 13,
   "id": "df7bcab7-266b-4e47-b016-bb66f5b6a87c",
   "metadata": {},
   "outputs": [
    {
     "data": {
      "text/plain": [
       "IntervalIndex([[2023-09-25 00:00:00, 2023-09-26 00:00:00), [2023-09-26 00:00:00, 2023-09-27 00:00:00)], dtype='interval[datetime64[ns], left]')"
      ]
     },
     "execution_count": 13,
     "metadata": {},
     "output_type": "execute_result"
    }
   ],
   "source": [
    "startday = start=pd.to_datetime('25-09-2023',format='%d-%m-%Y')\n",
    "timeintervals=pd.interval_range(start=startday, periods=2, freq='D', closed='left')\n",
    "timeintervals"
   ]
  },
  {
   "cell_type": "markdown",
   "id": "4716a18c-aec0-4f30-b143-3ccd6cf73218",
   "metadata": {},
   "source": [
    "Using the timeintervals above will save/return the results in chunks of 1 day. If we wanted the results in hourly chunks, we could have written instead:\n",
    "\n",
    "`timeintervals=pd.interval_range(start=startday, periods=48, freq='H', closed='left')`\n",
    "\n",
    "Now the only thing left is to define how to combine the stations, using the same dictionary keys as in 'pattern'."
   ]
  },
  {
   "cell_type": "code",
   "execution_count": 14,
   "id": "56232ec2-f8e8-4421-ad97-6400919e88a4",
   "metadata": {},
   "outputs": [
    {
     "name": "stdout",
     "output_type": "stream",
     "text": [
      "Processing MACROCOSM\n",
      "Listing the files matching with the interval\n",
      "Found 1 files for MACROCOSM-5\n",
      "Reading\n",
      "Found 1 files for MACROCOSM-1\n",
      "Reading\n",
      "Concatenating\n"
     ]
    },
    {
     "name": "stderr",
     "output_type": "stream",
     "text": [
      "/Library/Frameworks/Python.framework/Versions/3.12/lib/python3.12/site-packages/gnssvod/io/preprocess.py:335: FutureWarning: The default of observed=False is deprecated and will be changed to True in a future version of pandas. Pass observed=False to retain current behavior or observed=True to adopt the future default and silence this warning.\n",
      "  out[case_name] = [x for x in iout.groupby(pd.cut(iout.index.get_level_values('Epoch').tolist(), timeintervals))]\n"
     ]
    }
   ],
   "source": [
    "# define how to make pairs, always give reference station first, matching the dictionary keys of 'pattern'\n",
    "pairings={'MACROCOSM':('MACROCOSM-5','MACROCOSM-1')}\n",
    "\n",
    "# run function\n",
    "out = gv.gather_stations(pattern,pairings,timeintervals)"
   ]
  },
  {
   "cell_type": "markdown",
   "id": "5ffc79c1-19e9-44d3-9960-d4b71b8bf251",
   "metadata": {},
   "source": [
    "The result is of the form\n",
    "\n",
    "out = dict(key:list(\n",
    "<br>&emsp;&emsp;tuple(pd.Interval,pd.DataFrame)),\n",
    "<br>&emsp;&emsp;tuple(pd.Interval,pd.DataFrame)),\n",
    "<br>&emsp;&emsp;tuple(pd.Interval,pd.DataFrame))\n",
    "<br>)\n",
    "\n",
    "In our case, something like:\n",
    "\n",
    "out = dict('Dav': \\[\n",
    "<br>&emsp;&emsp;(Interval('2021-04-28', '2021-04-29', closed='left'), dataframe),\n",
    "<br>&emsp;&emsp;(Interval('2021-04-29', '2021-04-30', closed='left'), dataframe)\n",
    "<br>\\])"
   ]
  },
  {
   "cell_type": "code",
   "execution_count": 16,
   "id": "3fad3763-17c3-402d-a1a0-505388754fee",
   "metadata": {},
   "outputs": [
    {
     "data": {
      "text/html": [
       "<div>\n",
       "<style scoped>\n",
       "    .dataframe tbody tr th:only-of-type {\n",
       "        vertical-align: middle;\n",
       "    }\n",
       "\n",
       "    .dataframe tbody tr th {\n",
       "        vertical-align: top;\n",
       "    }\n",
       "\n",
       "    .dataframe thead th {\n",
       "        text-align: right;\n",
       "    }\n",
       "</style>\n",
       "<table border=\"1\" class=\"dataframe\">\n",
       "  <thead>\n",
       "    <tr style=\"text-align: right;\">\n",
       "      <th></th>\n",
       "      <th></th>\n",
       "      <th></th>\n",
       "      <th>S1C</th>\n",
       "      <th>S1X</th>\n",
       "      <th>S2C</th>\n",
       "      <th>S2X</th>\n",
       "      <th>Azimuth</th>\n",
       "      <th>Elevation</th>\n",
       "    </tr>\n",
       "    <tr>\n",
       "      <th>Station</th>\n",
       "      <th>Epoch</th>\n",
       "      <th>SV</th>\n",
       "      <th></th>\n",
       "      <th></th>\n",
       "      <th></th>\n",
       "      <th></th>\n",
       "      <th></th>\n",
       "      <th></th>\n",
       "    </tr>\n",
       "  </thead>\n",
       "  <tbody>\n",
       "    <tr>\n",
       "      <th rowspan=\"5\" valign=\"top\">MACROCOSM-5</th>\n",
       "      <th rowspan=\"5\" valign=\"top\">2023-09-25 13:26:15</th>\n",
       "      <th>C20</th>\n",
       "      <td>NaN</td>\n",
       "      <td>NaN</td>\n",
       "      <td>NaN</td>\n",
       "      <td>NaN</td>\n",
       "      <td>-107.4</td>\n",
       "      <td>33.5</td>\n",
       "    </tr>\n",
       "    <tr>\n",
       "      <th>C27</th>\n",
       "      <td>NaN</td>\n",
       "      <td>NaN</td>\n",
       "      <td>NaN</td>\n",
       "      <td>NaN</td>\n",
       "      <td>130.1</td>\n",
       "      <td>72.8</td>\n",
       "    </tr>\n",
       "    <tr>\n",
       "      <th>C30</th>\n",
       "      <td>NaN</td>\n",
       "      <td>NaN</td>\n",
       "      <td>NaN</td>\n",
       "      <td>NaN</td>\n",
       "      <td>-35.8</td>\n",
       "      <td>51.3</td>\n",
       "    </tr>\n",
       "    <tr>\n",
       "      <th>C32</th>\n",
       "      <td>NaN</td>\n",
       "      <td>NaN</td>\n",
       "      <td>NaN</td>\n",
       "      <td>NaN</td>\n",
       "      <td>-23.6</td>\n",
       "      <td>61.2</td>\n",
       "    </tr>\n",
       "    <tr>\n",
       "      <th>E04</th>\n",
       "      <td>NaN</td>\n",
       "      <td>45.8</td>\n",
       "      <td>NaN</td>\n",
       "      <td>NaN</td>\n",
       "      <td>-159.1</td>\n",
       "      <td>81.7</td>\n",
       "    </tr>\n",
       "    <tr>\n",
       "      <th>...</th>\n",
       "      <th>...</th>\n",
       "      <th>...</th>\n",
       "      <td>...</td>\n",
       "      <td>...</td>\n",
       "      <td>...</td>\n",
       "      <td>...</td>\n",
       "      <td>...</td>\n",
       "      <td>...</td>\n",
       "    </tr>\n",
       "    <tr>\n",
       "      <th rowspan=\"5\" valign=\"top\">MACROCOSM-1</th>\n",
       "      <th rowspan=\"5\" valign=\"top\">2023-09-25 14:24:00</th>\n",
       "      <th>R01</th>\n",
       "      <td>41.7</td>\n",
       "      <td>NaN</td>\n",
       "      <td>31.9</td>\n",
       "      <td>NaN</td>\n",
       "      <td>-58.5</td>\n",
       "      <td>48.7</td>\n",
       "    </tr>\n",
       "    <tr>\n",
       "      <th>R08</th>\n",
       "      <td>45.8</td>\n",
       "      <td>NaN</td>\n",
       "      <td>38.9</td>\n",
       "      <td>NaN</td>\n",
       "      <td>13.8</td>\n",
       "      <td>29.5</td>\n",
       "    </tr>\n",
       "    <tr>\n",
       "      <th>R22</th>\n",
       "      <td>29.8</td>\n",
       "      <td>NaN</td>\n",
       "      <td>25.4</td>\n",
       "      <td>NaN</td>\n",
       "      <td>146.0</td>\n",
       "      <td>33.3</td>\n",
       "    </tr>\n",
       "    <tr>\n",
       "      <th>R23</th>\n",
       "      <td>44.9</td>\n",
       "      <td>NaN</td>\n",
       "      <td>NaN</td>\n",
       "      <td>NaN</td>\n",
       "      <td>NaN</td>\n",
       "      <td>NaN</td>\n",
       "    </tr>\n",
       "    <tr>\n",
       "      <th>R24</th>\n",
       "      <td>47.9</td>\n",
       "      <td>NaN</td>\n",
       "      <td>38.8</td>\n",
       "      <td>NaN</td>\n",
       "      <td>-24.7</td>\n",
       "      <td>30.7</td>\n",
       "    </tr>\n",
       "  </tbody>\n",
       "</table>\n",
       "<p>10912 rows × 6 columns</p>\n",
       "</div>"
      ],
      "text/plain": [
       "                                      S1C   S1X   S2C  S2X  Azimuth  Elevation\n",
       "Station     Epoch               SV                                            \n",
       "MACROCOSM-5 2023-09-25 13:26:15 C20   NaN   NaN   NaN  NaN   -107.4       33.5\n",
       "                                C27   NaN   NaN   NaN  NaN    130.1       72.8\n",
       "                                C30   NaN   NaN   NaN  NaN    -35.8       51.3\n",
       "                                C32   NaN   NaN   NaN  NaN    -23.6       61.2\n",
       "                                E04   NaN  45.8   NaN  NaN   -159.1       81.7\n",
       "...                                   ...   ...   ...  ...      ...        ...\n",
       "MACROCOSM-1 2023-09-25 14:24:00 R01  41.7   NaN  31.9  NaN    -58.5       48.7\n",
       "                                R08  45.8   NaN  38.9  NaN     13.8       29.5\n",
       "                                R22  29.8   NaN  25.4  NaN    146.0       33.3\n",
       "                                R23  44.9   NaN   NaN  NaN      NaN        NaN\n",
       "                                R24  47.9   NaN  38.8  NaN    -24.7       30.7\n",
       "\n",
       "[10912 rows x 6 columns]"
      ]
     },
     "execution_count": 16,
     "metadata": {},
     "output_type": "execute_result"
    }
   ],
   "source": [
    "out['MACROCOSM'][0][1]"
   ]
  },
  {
   "cell_type": "markdown",
   "id": "f07f5f97-80f1-4f32-9358-2142a36fb755",
   "metadata": {},
   "source": [
    "#### Specifying output destination\n",
    "Instead of just returning the result as an output of the function, we can specify where to save it instead. Again it may also be useful to get rid of some variables that are not useful to reduce file size."
   ]
  },
  {
   "cell_type": "code",
   "execution_count": 19,
   "id": "351245e9-b575-4433-a78f-fc3e08130672",
   "metadata": {},
   "outputs": [
    {
     "name": "stdout",
     "output_type": "stream",
     "text": [
      "Processing MACROCOSM\n",
      "Listing the files matching with the interval\n",
      "Found 1 files for MACROCOSM-5\n",
      "Reading\n",
      "Found 1 files for MACROCOSM-1\n",
      "Reading\n",
      "Concatenating\n",
      "Saving files for MACROCOSM in data_pr/MACROCOSM_paired/\n",
      "Saved 10912 obs in MACROCOSM_20230925000000_20230926000000.nc\n",
      "No data for timestep 20230926000000_20230927000000, no file saved\n"
     ]
    },
    {
     "name": "stderr",
     "output_type": "stream",
     "text": [
      "/Library/Frameworks/Python.framework/Versions/3.12/lib/python3.12/site-packages/gnssvod/io/preprocess.py:335: FutureWarning: The default of observed=False is deprecated and will be changed to True in a future version of pandas. Pass observed=False to retain current behavior or observed=True to adopt the future default and silence this warning.\n",
      "  out[case_name] = [x for x in iout.groupby(pd.cut(iout.index.get_level_values('Epoch').tolist(), timeintervals))]\n"
     ]
    }
   ],
   "source": [
    "# define where to save output data, matching the dictionary keys in 'pairings'\n",
    "outputdir = {'MACROCOSM':'data_pr/MACROCOSM_paired/'}\n",
    "# define which variables to keep\n",
    "keepvars = ['S1C','S2C','Azimuth','Elevation']\n",
    "\n",
    "# run function\n",
    "out = gv.gather_stations(pattern,pairings,timeintervals,keepvars=keepvars,outputdir=outputdir)"
   ]
  },
  {
   "cell_type": "code",
   "execution_count": 20,
   "id": "0426f8c6-b204-4401-a3d0-578eac779118",
   "metadata": {},
   "outputs": [
    {
     "data": {
      "text/plain": [
       "{'MACROCOSM': [(Interval(2023-09-25 00:00:00, 2023-09-26 00:00:00, closed='left'),\n",
       "                                         S1C   S2C  Azimuth  Elevation\n",
       "   Station     Epoch               SV                                 \n",
       "   MACROCOSM-5 2023-09-25 13:26:15 C20   NaN   NaN   -107.4       33.5\n",
       "                                   C27   NaN   NaN    130.1       72.8\n",
       "                                   C30   NaN   NaN    -35.8       51.3\n",
       "                                   C32   NaN   NaN    -23.6       61.2\n",
       "                                   E04   NaN   NaN   -159.1       81.7\n",
       "   ...                                   ...   ...      ...        ...\n",
       "   MACROCOSM-1 2023-09-25 14:24:00 R01  41.7  31.9    -58.5       48.7\n",
       "                                   R08  45.8  38.9     13.8       29.5\n",
       "                                   R22  29.8  25.4    146.0       33.3\n",
       "                                   R23  44.9   NaN      NaN        NaN\n",
       "                                   R24  47.9  38.8    -24.7       30.7\n",
       "   \n",
       "   [10912 rows x 4 columns]),\n",
       "  (Interval(2023-09-26 00:00:00, 2023-09-27 00:00:00, closed='left'),\n",
       "   Empty DataFrame\n",
       "   Columns: [S1C, S2C, Azimuth, Elevation]\n",
       "   Index: [])]}"
      ]
     },
     "execution_count": 20,
     "metadata": {},
     "output_type": "execute_result"
    }
   ],
   "source": [
    "out"
   ]
  },
  {
   "cell_type": "markdown",
   "id": "6a14ccda-7cde-4ece-a465-be4114a08d6a",
   "metadata": {},
   "source": [
    "As we asked, the results have been saved as daily files (even though the input files are hourly files). The file names are generated based on the key of the 'pairing' argument (here 'Dav') and the specified time intervals."
   ]
  },
  {
   "cell_type": "code",
   "execution_count": null,
   "id": "070071ef-1bfa-47a8-b731-2dbf3d37b084",
   "metadata": {},
   "outputs": [],
   "source": []
  }
 ],
 "metadata": {
  "kernelspec": {
   "display_name": "Python 3 (ipykernel)",
   "language": "python",
   "name": "python3"
  },
  "language_info": {
   "codemirror_mode": {
    "name": "ipython",
    "version": 3
   },
   "file_extension": ".py",
   "mimetype": "text/x-python",
   "name": "python",
   "nbconvert_exporter": "python",
   "pygments_lexer": "ipython3",
   "version": "3.12.1"
  }
 },
 "nbformat": 4,
 "nbformat_minor": 5
}
